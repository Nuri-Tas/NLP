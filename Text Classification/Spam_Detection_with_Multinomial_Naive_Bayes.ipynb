{
  "nbformat": 4,
  "nbformat_minor": 0,
  "metadata": {
    "colab": {
      "provenance": [],
      "authorship_tag": "ABX9TyPQOU+J3Lmq39wOKARSxjyf",
      "include_colab_link": true
    },
    "kernelspec": {
      "name": "python3",
      "display_name": "Python 3"
    },
    "language_info": {
      "name": "python"
    }
  },
  "cells": [
    {
      "cell_type": "markdown",
      "metadata": {
        "id": "view-in-github",
        "colab_type": "text"
      },
      "source": [
        "<a href=\"https://colab.research.google.com/github/Nuri-Tas/NLP/blob/main/Text%20Classification/Spam_Detection_with_Multinomial_Naive_Bayes.ipynb\" target=\"_parent\"><img src=\"https://colab.research.google.com/assets/colab-badge.svg\" alt=\"Open In Colab\"/></a>"
      ]
    },
    {
      "cell_type": "markdown",
      "source": [
        "We will build a spam detection method with Multinomial Naive Bayes method. We start with sklearn's own NB model and then proceed to build our own NB classifier. At the end, we compare our results with the sklearn's classifier based on different metrics such as macro and micro f1 scores."
      ],
      "metadata": {
        "id": "ylNLY6Ya2VSB"
      }
    },
    {
      "cell_type": "markdown",
      "source": [
        "# Imports"
      ],
      "metadata": {
        "id": "Mc1Z0CnfKC-I"
      }
    },
    {
      "cell_type": "code",
      "source": [
        "import pandas as pd\n",
        "import numpy as np\n",
        "\n",
        "from sklearn.naive_bayes import MultinomialNB\n",
        "from sklearn.model_selection import train_test_split\n",
        "from sklearn.metrics import f1_score, confusion_matrix\n",
        "\n",
        "from string import punctuation\n"
      ],
      "metadata": {
        "id": "_uK9vyzg2K-W"
      },
      "execution_count": 225,
      "outputs": []
    },
    {
      "cell_type": "markdown",
      "source": [
        "# Load Data"
      ],
      "metadata": {
        "id": "TtqtM9ki2xYk"
      }
    },
    {
      "cell_type": "code",
      "source": [
        "# https://www.kaggle.com/uciml/sms-spam-collection-dataset\n",
        "!wget https://lazyprogrammer.me/course_files/spam.csv"
      ],
      "metadata": {
        "id": "bnoqQQ3WZ_Gl",
        "colab": {
          "base_uri": "https://localhost:8080/"
        },
        "outputId": "54d9f1ac-64b4-4bf8-d4bd-14d2e3a9b3e8"
      },
      "execution_count": 226,
      "outputs": [
        {
          "output_type": "stream",
          "name": "stdout",
          "text": [
            "--2023-04-15 17:02:17--  https://lazyprogrammer.me/course_files/spam.csv\n",
            "Resolving lazyprogrammer.me (lazyprogrammer.me)... 172.67.213.166, 104.21.23.210, 2606:4700:3031::6815:17d2, ...\n",
            "Connecting to lazyprogrammer.me (lazyprogrammer.me)|172.67.213.166|:443... connected.\n",
            "HTTP request sent, awaiting response... 200 OK\n",
            "Length: 503663 (492K) [text/csv]\n",
            "Saving to: ‘spam.csv.2’\n",
            "\n",
            "\rspam.csv.2            0%[                    ]       0  --.-KB/s               \rspam.csv.2          100%[===================>] 491.86K  --.-KB/s    in 0.03s   \n",
            "\n",
            "2023-04-15 17:02:17 (18.8 MB/s) - ‘spam.csv.2’ saved [503663/503663]\n",
            "\n"
          ]
        }
      ]
    },
    {
      "cell_type": "markdown",
      "source": [
        "# Basic EDA and Preprocessing"
      ],
      "metadata": {
        "id": "iDXEUFI72zyk"
      }
    },
    {
      "cell_type": "code",
      "source": [
        "df = pd.read_csv(\"spam.csv\", usecols=[0,1], encoding=\"latin-1\")\n",
        "df['v2'] = df['v2'].str.lower()\n",
        "df.head()"
      ],
      "metadata": {
        "colab": {
          "base_uri": "https://localhost:8080/",
          "height": 206
        },
        "id": "Smm5g3YcKG0f",
        "outputId": "39a9ddb2-3f22-4189-b1d6-aaaa1b0e33dd"
      },
      "execution_count": 227,
      "outputs": [
        {
          "output_type": "execute_result",
          "data": {
            "text/plain": [
              "     v1                                                 v2\n",
              "0   ham  go until jurong point, crazy.. available only ...\n",
              "1   ham                      ok lar... joking wif u oni...\n",
              "2  spam  free entry in 2 a wkly comp to win fa cup fina...\n",
              "3   ham  u dun say so early hor... u c already then say...\n",
              "4   ham  nah i don't think he goes to usf, he lives aro..."
            ],
            "text/html": [
              "\n",
              "  <div id=\"df-b8f7d970-5479-4eab-9cd1-d188f35ec9d8\">\n",
              "    <div class=\"colab-df-container\">\n",
              "      <div>\n",
              "<style scoped>\n",
              "    .dataframe tbody tr th:only-of-type {\n",
              "        vertical-align: middle;\n",
              "    }\n",
              "\n",
              "    .dataframe tbody tr th {\n",
              "        vertical-align: top;\n",
              "    }\n",
              "\n",
              "    .dataframe thead th {\n",
              "        text-align: right;\n",
              "    }\n",
              "</style>\n",
              "<table border=\"1\" class=\"dataframe\">\n",
              "  <thead>\n",
              "    <tr style=\"text-align: right;\">\n",
              "      <th></th>\n",
              "      <th>v1</th>\n",
              "      <th>v2</th>\n",
              "    </tr>\n",
              "  </thead>\n",
              "  <tbody>\n",
              "    <tr>\n",
              "      <th>0</th>\n",
              "      <td>ham</td>\n",
              "      <td>go until jurong point, crazy.. available only ...</td>\n",
              "    </tr>\n",
              "    <tr>\n",
              "      <th>1</th>\n",
              "      <td>ham</td>\n",
              "      <td>ok lar... joking wif u oni...</td>\n",
              "    </tr>\n",
              "    <tr>\n",
              "      <th>2</th>\n",
              "      <td>spam</td>\n",
              "      <td>free entry in 2 a wkly comp to win fa cup fina...</td>\n",
              "    </tr>\n",
              "    <tr>\n",
              "      <th>3</th>\n",
              "      <td>ham</td>\n",
              "      <td>u dun say so early hor... u c already then say...</td>\n",
              "    </tr>\n",
              "    <tr>\n",
              "      <th>4</th>\n",
              "      <td>ham</td>\n",
              "      <td>nah i don't think he goes to usf, he lives aro...</td>\n",
              "    </tr>\n",
              "  </tbody>\n",
              "</table>\n",
              "</div>\n",
              "      <button class=\"colab-df-convert\" onclick=\"convertToInteractive('df-b8f7d970-5479-4eab-9cd1-d188f35ec9d8')\"\n",
              "              title=\"Convert this dataframe to an interactive table.\"\n",
              "              style=\"display:none;\">\n",
              "        \n",
              "  <svg xmlns=\"http://www.w3.org/2000/svg\" height=\"24px\"viewBox=\"0 0 24 24\"\n",
              "       width=\"24px\">\n",
              "    <path d=\"M0 0h24v24H0V0z\" fill=\"none\"/>\n",
              "    <path d=\"M18.56 5.44l.94 2.06.94-2.06 2.06-.94-2.06-.94-.94-2.06-.94 2.06-2.06.94zm-11 1L8.5 8.5l.94-2.06 2.06-.94-2.06-.94L8.5 2.5l-.94 2.06-2.06.94zm10 10l.94 2.06.94-2.06 2.06-.94-2.06-.94-.94-2.06-.94 2.06-2.06.94z\"/><path d=\"M17.41 7.96l-1.37-1.37c-.4-.4-.92-.59-1.43-.59-.52 0-1.04.2-1.43.59L10.3 9.45l-7.72 7.72c-.78.78-.78 2.05 0 2.83L4 21.41c.39.39.9.59 1.41.59.51 0 1.02-.2 1.41-.59l7.78-7.78 2.81-2.81c.8-.78.8-2.07 0-2.86zM5.41 20L4 18.59l7.72-7.72 1.47 1.35L5.41 20z\"/>\n",
              "  </svg>\n",
              "      </button>\n",
              "      \n",
              "  <style>\n",
              "    .colab-df-container {\n",
              "      display:flex;\n",
              "      flex-wrap:wrap;\n",
              "      gap: 12px;\n",
              "    }\n",
              "\n",
              "    .colab-df-convert {\n",
              "      background-color: #E8F0FE;\n",
              "      border: none;\n",
              "      border-radius: 50%;\n",
              "      cursor: pointer;\n",
              "      display: none;\n",
              "      fill: #1967D2;\n",
              "      height: 32px;\n",
              "      padding: 0 0 0 0;\n",
              "      width: 32px;\n",
              "    }\n",
              "\n",
              "    .colab-df-convert:hover {\n",
              "      background-color: #E2EBFA;\n",
              "      box-shadow: 0px 1px 2px rgba(60, 64, 67, 0.3), 0px 1px 3px 1px rgba(60, 64, 67, 0.15);\n",
              "      fill: #174EA6;\n",
              "    }\n",
              "\n",
              "    [theme=dark] .colab-df-convert {\n",
              "      background-color: #3B4455;\n",
              "      fill: #D2E3FC;\n",
              "    }\n",
              "\n",
              "    [theme=dark] .colab-df-convert:hover {\n",
              "      background-color: #434B5C;\n",
              "      box-shadow: 0px 1px 3px 1px rgba(0, 0, 0, 0.15);\n",
              "      filter: drop-shadow(0px 1px 2px rgba(0, 0, 0, 0.3));\n",
              "      fill: #FFFFFF;\n",
              "    }\n",
              "  </style>\n",
              "\n",
              "      <script>\n",
              "        const buttonEl =\n",
              "          document.querySelector('#df-b8f7d970-5479-4eab-9cd1-d188f35ec9d8 button.colab-df-convert');\n",
              "        buttonEl.style.display =\n",
              "          google.colab.kernel.accessAllowed ? 'block' : 'none';\n",
              "\n",
              "        async function convertToInteractive(key) {\n",
              "          const element = document.querySelector('#df-b8f7d970-5479-4eab-9cd1-d188f35ec9d8');\n",
              "          const dataTable =\n",
              "            await google.colab.kernel.invokeFunction('convertToInteractive',\n",
              "                                                     [key], {});\n",
              "          if (!dataTable) return;\n",
              "\n",
              "          const docLinkHtml = 'Like what you see? Visit the ' +\n",
              "            '<a target=\"_blank\" href=https://colab.research.google.com/notebooks/data_table.ipynb>data table notebook</a>'\n",
              "            + ' to learn more about interactive tables.';\n",
              "          element.innerHTML = '';\n",
              "          dataTable['output_type'] = 'display_data';\n",
              "          await google.colab.output.renderOutput(dataTable, element);\n",
              "          const docLink = document.createElement('div');\n",
              "          docLink.innerHTML = docLinkHtml;\n",
              "          element.appendChild(docLink);\n",
              "        }\n",
              "      </script>\n",
              "    </div>\n",
              "  </div>\n",
              "  "
            ]
          },
          "metadata": {},
          "execution_count": 227
        }
      ]
    },
    {
      "cell_type": "code",
      "source": [
        "# remove punctuations \n",
        "puncs = punctuation\n",
        "df['v2'] = df['v2'].apply(lambda x: x.translate(str.maketrans(\"\", \"\", puncs)))\n",
        "df.head()"
      ],
      "metadata": {
        "colab": {
          "base_uri": "https://localhost:8080/",
          "height": 206
        },
        "id": "RghOL8Kh_1LR",
        "outputId": "338d7592-500b-4d0e-cad3-24c72fbfb4f1"
      },
      "execution_count": 228,
      "outputs": [
        {
          "output_type": "execute_result",
          "data": {
            "text/plain": [
              "     v1                                                 v2\n",
              "0   ham  go until jurong point crazy available only in ...\n",
              "1   ham                            ok lar joking wif u oni\n",
              "2  spam  free entry in 2 a wkly comp to win fa cup fina...\n",
              "3   ham        u dun say so early hor u c already then say\n",
              "4   ham  nah i dont think he goes to usf he lives aroun..."
            ],
            "text/html": [
              "\n",
              "  <div id=\"df-2767656e-779c-4f3f-b898-51eab35716fc\">\n",
              "    <div class=\"colab-df-container\">\n",
              "      <div>\n",
              "<style scoped>\n",
              "    .dataframe tbody tr th:only-of-type {\n",
              "        vertical-align: middle;\n",
              "    }\n",
              "\n",
              "    .dataframe tbody tr th {\n",
              "        vertical-align: top;\n",
              "    }\n",
              "\n",
              "    .dataframe thead th {\n",
              "        text-align: right;\n",
              "    }\n",
              "</style>\n",
              "<table border=\"1\" class=\"dataframe\">\n",
              "  <thead>\n",
              "    <tr style=\"text-align: right;\">\n",
              "      <th></th>\n",
              "      <th>v1</th>\n",
              "      <th>v2</th>\n",
              "    </tr>\n",
              "  </thead>\n",
              "  <tbody>\n",
              "    <tr>\n",
              "      <th>0</th>\n",
              "      <td>ham</td>\n",
              "      <td>go until jurong point crazy available only in ...</td>\n",
              "    </tr>\n",
              "    <tr>\n",
              "      <th>1</th>\n",
              "      <td>ham</td>\n",
              "      <td>ok lar joking wif u oni</td>\n",
              "    </tr>\n",
              "    <tr>\n",
              "      <th>2</th>\n",
              "      <td>spam</td>\n",
              "      <td>free entry in 2 a wkly comp to win fa cup fina...</td>\n",
              "    </tr>\n",
              "    <tr>\n",
              "      <th>3</th>\n",
              "      <td>ham</td>\n",
              "      <td>u dun say so early hor u c already then say</td>\n",
              "    </tr>\n",
              "    <tr>\n",
              "      <th>4</th>\n",
              "      <td>ham</td>\n",
              "      <td>nah i dont think he goes to usf he lives aroun...</td>\n",
              "    </tr>\n",
              "  </tbody>\n",
              "</table>\n",
              "</div>\n",
              "      <button class=\"colab-df-convert\" onclick=\"convertToInteractive('df-2767656e-779c-4f3f-b898-51eab35716fc')\"\n",
              "              title=\"Convert this dataframe to an interactive table.\"\n",
              "              style=\"display:none;\">\n",
              "        \n",
              "  <svg xmlns=\"http://www.w3.org/2000/svg\" height=\"24px\"viewBox=\"0 0 24 24\"\n",
              "       width=\"24px\">\n",
              "    <path d=\"M0 0h24v24H0V0z\" fill=\"none\"/>\n",
              "    <path d=\"M18.56 5.44l.94 2.06.94-2.06 2.06-.94-2.06-.94-.94-2.06-.94 2.06-2.06.94zm-11 1L8.5 8.5l.94-2.06 2.06-.94-2.06-.94L8.5 2.5l-.94 2.06-2.06.94zm10 10l.94 2.06.94-2.06 2.06-.94-2.06-.94-.94-2.06-.94 2.06-2.06.94z\"/><path d=\"M17.41 7.96l-1.37-1.37c-.4-.4-.92-.59-1.43-.59-.52 0-1.04.2-1.43.59L10.3 9.45l-7.72 7.72c-.78.78-.78 2.05 0 2.83L4 21.41c.39.39.9.59 1.41.59.51 0 1.02-.2 1.41-.59l7.78-7.78 2.81-2.81c.8-.78.8-2.07 0-2.86zM5.41 20L4 18.59l7.72-7.72 1.47 1.35L5.41 20z\"/>\n",
              "  </svg>\n",
              "      </button>\n",
              "      \n",
              "  <style>\n",
              "    .colab-df-container {\n",
              "      display:flex;\n",
              "      flex-wrap:wrap;\n",
              "      gap: 12px;\n",
              "    }\n",
              "\n",
              "    .colab-df-convert {\n",
              "      background-color: #E8F0FE;\n",
              "      border: none;\n",
              "      border-radius: 50%;\n",
              "      cursor: pointer;\n",
              "      display: none;\n",
              "      fill: #1967D2;\n",
              "      height: 32px;\n",
              "      padding: 0 0 0 0;\n",
              "      width: 32px;\n",
              "    }\n",
              "\n",
              "    .colab-df-convert:hover {\n",
              "      background-color: #E2EBFA;\n",
              "      box-shadow: 0px 1px 2px rgba(60, 64, 67, 0.3), 0px 1px 3px 1px rgba(60, 64, 67, 0.15);\n",
              "      fill: #174EA6;\n",
              "    }\n",
              "\n",
              "    [theme=dark] .colab-df-convert {\n",
              "      background-color: #3B4455;\n",
              "      fill: #D2E3FC;\n",
              "    }\n",
              "\n",
              "    [theme=dark] .colab-df-convert:hover {\n",
              "      background-color: #434B5C;\n",
              "      box-shadow: 0px 1px 3px 1px rgba(0, 0, 0, 0.15);\n",
              "      filter: drop-shadow(0px 1px 2px rgba(0, 0, 0, 0.3));\n",
              "      fill: #FFFFFF;\n",
              "    }\n",
              "  </style>\n",
              "\n",
              "      <script>\n",
              "        const buttonEl =\n",
              "          document.querySelector('#df-2767656e-779c-4f3f-b898-51eab35716fc button.colab-df-convert');\n",
              "        buttonEl.style.display =\n",
              "          google.colab.kernel.accessAllowed ? 'block' : 'none';\n",
              "\n",
              "        async function convertToInteractive(key) {\n",
              "          const element = document.querySelector('#df-2767656e-779c-4f3f-b898-51eab35716fc');\n",
              "          const dataTable =\n",
              "            await google.colab.kernel.invokeFunction('convertToInteractive',\n",
              "                                                     [key], {});\n",
              "          if (!dataTable) return;\n",
              "\n",
              "          const docLinkHtml = 'Like what you see? Visit the ' +\n",
              "            '<a target=\"_blank\" href=https://colab.research.google.com/notebooks/data_table.ipynb>data table notebook</a>'\n",
              "            + ' to learn more about interactive tables.';\n",
              "          element.innerHTML = '';\n",
              "          dataTable['output_type'] = 'display_data';\n",
              "          await google.colab.output.renderOutput(dataTable, element);\n",
              "          const docLink = document.createElement('div');\n",
              "          docLink.innerHTML = docLinkHtml;\n",
              "          element.appendChild(docLink);\n",
              "        }\n",
              "      </script>\n",
              "    </div>\n",
              "  </div>\n",
              "  "
            ]
          },
          "metadata": {},
          "execution_count": 228
        }
      ]
    },
    {
      "cell_type": "code",
      "source": [
        "# train test split\n",
        "X_train, X_test, y_train, y_test = train_test_split(df[\"v2\"], df[\"v1\"], test_size=0.2)"
      ],
      "metadata": {
        "id": "92O4Oa-WKKj7"
      },
      "execution_count": 229,
      "outputs": []
    },
    {
      "cell_type": "markdown",
      "source": [
        "# Build sklearn's NB Model"
      ],
      "metadata": {
        "id": "aFPQDAUA7LBD"
      }
    },
    {
      "cell_type": "markdown",
      "source": [
        "get_scores calculates the mean accuracy of sklearn's NB model. We additionally include `use_stopwords` parameter to compare models depending whether it ignores the stop words."
      ],
      "metadata": {
        "id": "9lxAw_Je2543"
      }
    },
    {
      "cell_type": "code",
      "source": [
        "def get_scores(x_train, x_test, y_train, y_test, use_stopwords=False):\n",
        "  if use_stopwords:\n",
        "    cv = CountVectorizer(stop_words=\"english\")\n",
        "  else:\n",
        "    cv = CountVectorizer()\n",
        "    \n",
        "  train_vectors = cv.fit_transform(x_train)\n",
        "  test_vectors = cv.transform(x_test)\n",
        "\n",
        "  model = MultinomialNB()\n",
        "  model.fit(train_vectors, y_train)\n",
        "  preds = model.predict(test_vectors)\n",
        "  scores = model.score(test_vectors, y_test)\n",
        "  return preds, scores"
      ],
      "metadata": {
        "id": "FpzcKkPjKnPK"
      },
      "execution_count": 230,
      "outputs": []
    },
    {
      "cell_type": "markdown",
      "source": [
        "Apparently, removing stopwords yields in a lower accuracy."
      ],
      "metadata": {
        "id": "p5S_abRYT6TL"
      }
    },
    {
      "cell_type": "code",
      "source": [
        "pred_no_stopwords,  score_no_stopwords = get_scores(X_train, X_test, y_train, y_test)\n",
        "pred_with_stopwords, score_with_stopwords = get_scores(X_train, X_test, y_train, y_test, True)\n",
        "\n",
        "print(\"Score without removing stopwords: \", score_no_stopwords)\n",
        "print(\"Score with removing stopwords: \", score_with_stopwords)"
      ],
      "metadata": {
        "colab": {
          "base_uri": "https://localhost:8080/"
        },
        "id": "tmspDquNLCur",
        "outputId": "3470d179-ba1a-45ae-fd62-a5cddc55cf61"
      },
      "execution_count": 231,
      "outputs": [
        {
          "output_type": "stream",
          "name": "stdout",
          "text": [
            "Score without removing stopwords:  0.9829596412556054\n",
            "Score with removing stopwords:  0.9847533632286996\n"
          ]
        }
      ]
    },
    {
      "cell_type": "markdown",
      "source": [
        "# Building Naive Bayes from Scratch"
      ],
      "metadata": {
        "id": "5qGWgmrMVnK9"
      }
    },
    {
      "cell_type": "markdown",
      "source": [
        "We start with creating a vocabulary dictionary for the training set. Additionally, we also include the term `<UNK>` to store the words that are in only one of the classes, or in the test set but not in the training set. In the dictionary, keys correspond to the unique index for each word, whereas the values are the words."
      ],
      "metadata": {
        "id": "XPIIUoeFW_lg"
      }
    },
    {
      "cell_type": "code",
      "source": [
        "# note, we construct vocabulary for the training set. We will denote the words that are only in the test set as <UNK>\n",
        "vocabulary = {word: index for index, word in enumerate(X_train.str.split().explode().unique())}\n",
        "\n",
        "# add <UNK>\n",
        "vocabulary[\"<UNK>\"] = len(vocabulary)"
      ],
      "metadata": {
        "id": "hsEroeRsVlb6"
      },
      "execution_count": 232,
      "outputs": []
    },
    {
      "cell_type": "code",
      "source": [
        "ham_index = y_train[y_train.eq(\"ham\")].index\n",
        "spam_index = y_train[y_train.eq(\"spam\")].index\n",
        "\n",
        "ham_train = X_train[ham_index]\n",
        "spam_train = X_train[spam_index]"
      ],
      "metadata": {
        "id": "3Se4gF-uYBad"
      },
      "execution_count": 233,
      "outputs": []
    },
    {
      "cell_type": "markdown",
      "source": [
        "Build dictionaries for ham and spam classes. "
      ],
      "metadata": {
        "id": "qYtnQ6loaHS1"
      }
    },
    {
      "cell_type": "code",
      "source": [
        "# we will initialize the likelihood dictionary with 1 for each word\n",
        "ham_dict = {word: 1 for index, word in enumerate(vocabulary)}\n",
        "\n",
        "for word in ham_train.str.split().explode():\n",
        "  ham_dict[word] += 1\n",
        "\n",
        "# normalize the values\n",
        "ham_dict = {k: v / sum(ham_dict.values()) for k, v in ham_dict.items()}"
      ],
      "metadata": {
        "id": "X5rozDLZYPrC"
      },
      "execution_count": 234,
      "outputs": []
    },
    {
      "cell_type": "code",
      "source": [
        "spam_dict = {word: 1 for index, word in enumerate(vocabulary)}\n",
        "\n",
        "for word in spam_train.str.split().explode():\n",
        "  spam_dict[word] += 1\n",
        "\n",
        "spam_dict = {k: v / sum(spam_dict.values()) for k, v in spam_dict.items()}"
      ],
      "metadata": {
        "id": "gblejzhuZUtH"
      },
      "execution_count": 235,
      "outputs": []
    },
    {
      "cell_type": "markdown",
      "source": [
        "Get prior values for ham and spam mails"
      ],
      "metadata": {
        "id": "7K2u20S5cJQL"
      }
    },
    {
      "cell_type": "code",
      "source": [
        "ham_prior = len(ham_train) / len(X_train)\n",
        "spam_prior = len(spam_train) / len(X_train)\n",
        "\n",
        "print(f\"The prior values for ham and spam classes are {round(ham_prior,3)} and {round(spam_prior, 3)}, respectively.\")"
      ],
      "metadata": {
        "colab": {
          "base_uri": "https://localhost:8080/"
        },
        "id": "HD0ByOgNcIfj",
        "outputId": "73b86aaf-7900-4635-bfbd-9b809b6c3c20"
      },
      "execution_count": 236,
      "outputs": [
        {
          "output_type": "stream",
          "name": "stdout",
          "text": [
            "The prior values for ham and spam classes are 0.868 and 0.132, respectively.\n"
          ]
        }
      ]
    },
    {
      "cell_type": "code",
      "source": [
        "def get_likelihood(row):\n",
        "  ham_likelihood = 0\n",
        "  spam_likelihood = 0\n",
        "  for word in row.split():\n",
        "      if word in vocabulary:\n",
        "        ham_likelihood += np.log2(ham_dict[word])\n",
        "        spam_likelihood += np.log2(spam_dict[word])\n",
        "      else:\n",
        "        ham_likelihood += np.log2(ham_dict[\"<UNK>\"])\n",
        "        spam_likelihood += np.log2(spam_dict[\"<UNK>\"])\n",
        "    \n",
        "  # don't forget to add one to likelihood values in case every word is encountered only once, hence resulting in 0 likelihood\n",
        "  ham_posterior = (ham_likelihood + 1) +  ham_prior\n",
        "  spam_posterior = (spam_likelihood + 1) + spam_prior\n",
        "\n",
        "  if spam_posterior >= ham_posterior:\n",
        "    return \"spam\"\n",
        "  else:\n",
        "    return \"ham\"\n"
      ],
      "metadata": {
        "id": "EzQIRYLxaF3E"
      },
      "execution_count": 237,
      "outputs": []
    },
    {
      "cell_type": "markdown",
      "source": [
        "We achieve 96% mean accuracy, a competitive score against the sklearn's own model. However, as our dataset was unbalanced in favor of ham mails, we are going to check other metrics as well."
      ],
      "metadata": {
        "id": "mQPn0iPXi11C"
      }
    },
    {
      "cell_type": "code",
      "source": [
        "results = X_test.apply(lambda row: get_likelihood(row))\n",
        "our_score = np.mean(results == y_test)\n",
        "print(our_score)"
      ],
      "metadata": {
        "colab": {
          "base_uri": "https://localhost:8080/"
        },
        "id": "X5Lq8G2WdSXY",
        "outputId": "051f7e66-b2a4-40b0-a9db-f15b1ed23cd9"
      },
      "execution_count": 238,
      "outputs": [
        {
          "output_type": "stream",
          "name": "stdout",
          "text": [
            "0.9668161434977578\n"
          ]
        }
      ]
    },
    {
      "cell_type": "markdown",
      "source": [
        "Compare macro and micro f1 scores and scores only for the spam mails. First, display the confusion matrix. Here, the rows are actual classes, whereas columns correspond to predicted classes. "
      ],
      "metadata": {
        "id": "rO8wjBp7u5pU"
      }
    },
    {
      "cell_type": "code",
      "source": [
        "confused_matrix = confusion_matrix(y_test, results)\n",
        "confused_matrix"
      ],
      "metadata": {
        "colab": {
          "base_uri": "https://localhost:8080/"
        },
        "id": "xyDzEmDcvncQ",
        "outputId": "d80b64fb-1d7d-4e90-877a-656f97c041b1"
      },
      "execution_count": 244,
      "outputs": [
        {
          "output_type": "execute_result",
          "data": {
            "text/plain": [
              "array([[928,  29],\n",
              "       [  8, 150]])"
            ]
          },
          "metadata": {},
          "execution_count": 244
        }
      ]
    },
    {
      "cell_type": "code",
      "source": [
        "# macro f1 scores \n",
        "ours_macro = f1_score(y_test, results, average=\"macro\")\n",
        "actual_macro = f1_score(y_test, pred_no_stopwords, average=\"macro\")\n",
        "print(f\"Actual macro: {actual_macro}, Ours: {ours_macro}\")"
      ],
      "metadata": {
        "colab": {
          "base_uri": "https://localhost:8080/"
        },
        "id": "W4KhOkE5tyy1",
        "outputId": "f1269bf3-e390-409e-e25d-91af26a9c7aa"
      },
      "execution_count": 240,
      "outputs": [
        {
          "output_type": "stream",
          "name": "stdout",
          "text": [
            "Actual macro: 0.9639173940813286, Ours: 0.9353310102344887\n"
          ]
        }
      ]
    },
    {
      "cell_type": "code",
      "source": [
        "# micro f1 scores\n",
        "ours_micro = f1_score(y_test, results, average=\"micro\")\n",
        "actual_micro = f1_score(y_test, pred_no_stopwords, average=\"micro\")\n",
        "print(f\"Actual micro: {actual_micro}, Ours: {ours_micro}\")"
      ],
      "metadata": {
        "colab": {
          "base_uri": "https://localhost:8080/"
        },
        "id": "a-hlUcUot4Nf",
        "outputId": "a763e131-ece0-46d4-9377-a05216fe4fd7"
      },
      "execution_count": 241,
      "outputs": [
        {
          "output_type": "stream",
          "name": "stdout",
          "text": [
            "Actual micro: 0.9829596412556054, Ours: 0.9668161434977578\n"
          ]
        }
      ]
    },
    {
      "cell_type": "code",
      "source": [
        "# f1 scores for only spam mails \n",
        "ours_spam = f1_score(y_test, results, average=\"binary\", pos_label=\"spam\")\n",
        "actual_spam = f1_score(y_test, pred_no_stopwords,  average=\"binary\", pos_label=\"spam\")\n",
        "print(f\"Actual spam-only f1 score : {actual_spam}, Our spam-only f1 score: {ours_spam}\")"
      ],
      "metadata": {
        "colab": {
          "base_uri": "https://localhost:8080/"
        },
        "id": "fPUdgm-5t8De",
        "outputId": "3f06c73d-4f79-4904-b3c4-49c0b0939da5"
      },
      "execution_count": 243,
      "outputs": [
        {
          "output_type": "stream",
          "name": "stdout",
          "text": [
            "Actual spam-only f1 score : 0.9377049180327869, Our spam-only f1 score: 0.8902077151335311\n"
          ]
        }
      ]
    },
    {
      "cell_type": "code",
      "source": [],
      "metadata": {
        "id": "5aW7QbkTILHn"
      },
      "execution_count": null,
      "outputs": []
    }
  ]
}