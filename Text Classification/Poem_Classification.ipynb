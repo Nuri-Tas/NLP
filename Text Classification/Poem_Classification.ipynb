{
  "nbformat": 4,
  "nbformat_minor": 0,
  "metadata": {
    "colab": {
      "provenance": [],
      "authorship_tag": "ABX9TyP0X6/LSPNxKCGtuJj/WrbU",
      "include_colab_link": true
    },
    "kernelspec": {
      "name": "python3",
      "display_name": "Python 3"
    },
    "language_info": {
      "name": "python"
    }
  },
  "cells": [
    {
      "cell_type": "markdown",
      "metadata": {
        "id": "view-in-github",
        "colab_type": "text"
      },
      "source": [
        "<a href=\"https://colab.research.google.com/github/Nuri-Tas/NLP/blob/main/Text%20Classification/Poem_Classification.ipynb\" target=\"_parent\"><img src=\"https://colab.research.google.com/assets/colab-badge.svg\" alt=\"Open In Colab\"/></a>"
      ]
    },
    {
      "cell_type": "code",
      "execution_count": null,
      "metadata": {
        "id": "pTUPrzvHbMOW"
      },
      "outputs": [],
      "source": [
        "import numpy as np\n",
        "\n",
        "import string\n",
        "from sklearn.metrics import confusion_matrix, f1_score\n",
        "from sklearn.model_selection import train_test_split\n",
        "import seaborn as sns"
      ]
    },
    {
      "cell_type": "code",
      "source": [
        "!wget -nc https://raw.githubusercontent.com/lazyprogrammer/machine_learning_examples/master/hmm_class/edgar_allan_poe.txt\n",
        "!wget -nc https://raw.githubusercontent.com/lazyprogrammer/machine_learning_examples/master/hmm_class/robert_frost.txt"
      ],
      "metadata": {
        "colab": {
          "base_uri": "https://localhost:8080/"
        },
        "id": "ZrcgtyeUbqcy",
        "outputId": "92009788-620e-4ab5-c548-3e0d07a9f848"
      },
      "execution_count": null,
      "outputs": [
        {
          "output_type": "stream",
          "name": "stdout",
          "text": [
            "File ‘edgar_allan_poe.txt’ already there; not retrieving.\n",
            "\n",
            "File ‘robert_frost.txt’ already there; not retrieving.\n",
            "\n"
          ]
        }
      ]
    },
    {
      "cell_type": "code",
      "source": [
        "inputs = []\n",
        "labels = []\n",
        "\n",
        "files = [\"/content/edgar_allan_poe.txt\", \"/content/robert_frost.txt\"]\n",
        "\n",
        "for label, path in enumerate(files):\n",
        "  print(f\"Label {label} corresponds to {path.split('/')[-1][:-4]}\")\n",
        "\n",
        "  for line in open(path):\n",
        "    row = line.strip().lower()\n",
        "    if row:\n",
        "      inputs.append(row.translate(str.maketrans(\"\", \"\", string.punctuation)))\n",
        "      labels.append(label)"
      ],
      "metadata": {
        "colab": {
          "base_uri": "https://localhost:8080/"
        },
        "id": "c6sKve2lmZqp",
        "outputId": "a9bde9ab-bc4e-462d-e754-6ff5e8863622"
      },
      "execution_count": null,
      "outputs": [
        {
          "output_type": "stream",
          "name": "stdout",
          "text": [
            "Label 0 corresponds to edgar_allan_poe\n",
            "Label 1 corresponds to robert_frost\n"
          ]
        }
      ]
    },
    {
      "cell_type": "markdown",
      "source": [
        "We perform train/test split before proceeding to create markov matrices."
      ],
      "metadata": {
        "id": "_p-GGyWbbyz1"
      }
    },
    {
      "cell_type": "code",
      "source": [
        "train_x, test_x, train_y, test_y = train_test_split(inputs, labels, test_size=0.2)"
      ],
      "metadata": {
        "id": "XOQgZAhk0FKR"
      },
      "execution_count": null,
      "outputs": []
    },
    {
      "cell_type": "code",
      "source": [
        "# we will assing each word to its first occurence index, and update the inputs accordingly\n",
        "word2index = {}\n",
        "word2index['<unk>'] = 0\n",
        "\n",
        "idx = 1\n",
        "for row_idx, row in enumerate(train_x):\n",
        "  tokens = row.split()\n",
        "  for word in tokens:\n",
        "    if word not in word2index:\n",
        "      word2index[word] = idx\n",
        "      idx += 1\n",
        "\n",
        "# convert train and test inputs to index positions\n",
        "for idx, row in enumerate(train_x):\n",
        "  tokens = row.split()\n",
        "  train_x[idx] = [word2index[token] for token in tokens]\n",
        "\n",
        "for idx, row in enumerate(test_x):\n",
        "  tokens = row.split()\n",
        "\n",
        "  test_x[idx] = [word2index.get(token, 0) for token in tokens]\n",
        "\n",
        "# a sample from the new inputs. Here, each word is represented by its index from now on.\n",
        "train_x[100:105]"
      ],
      "metadata": {
        "colab": {
          "base_uri": "https://localhost:8080/"
        },
        "id": "L2bxHHKGniX5",
        "outputId": "928b6f90-4c71-4d96-9cd1-618c8e3ec217"
      },
      "execution_count": null,
      "outputs": [
        {
          "output_type": "execute_result",
          "data": {
            "text/plain": [
              "[[382, 38, 383, 8, 149, 5, 150, 151, 51],\n",
              " [384, 277, 10, 64, 148, 351, 366, 151, 385],\n",
              " [75, 13, 386, 387, 151, 388, 30, 389, 390],\n",
              " [12, 101, 391, 392, 13, 393],\n",
              " [77, 133, 394, 13, 395, 186, 396, 222]]"
            ]
          },
          "metadata": {},
          "execution_count": 26
        }
      ]
    },
    {
      "cell_type": "code",
      "source": [
        "# The shape of markov matrices will be V x V, where V is the number of words in the corpus\n",
        "V = len(word2index)\n",
        "\n",
        "pi0 = np.ones(V)\n",
        "A0 = np.ones((V, V))\n",
        "\n",
        "pi1 = np.ones(V)\n",
        "A1 = np.ones((V, V))"
      ],
      "metadata": {
        "id": "divgf_IyoZfn"
      },
      "execution_count": null,
      "outputs": []
    },
    {
      "cell_type": "code",
      "source": [
        "# The first word in each line will be added to pi matrix, whereas the rest of words will be added to A\n",
        "def construct_matrix(inputs, A, pi):\n",
        "  for row in inputs:\n",
        "    inner_index = None\n",
        "    for index in row:\n",
        "      if inner_index is None:\n",
        "        pi[index] += 1\n",
        "      else:\n",
        "        A[inner_index, index] += 1\n",
        "      inner_index = index\n",
        "  \n",
        "  return A, pi"
      ],
      "metadata": {
        "id": "92jIxmLFoaa1"
      },
      "execution_count": null,
      "outputs": []
    },
    {
      "cell_type": "code",
      "source": [
        "A0, pi0 = construct_matrix([item for item, label in zip(train_x, train_y) if label == 0], A0, pi0)\n",
        "A1, pi1 = construct_matrix([item for item, label in zip(train_x, train_y) if label == 1], A1, pi1)"
      ],
      "metadata": {
        "id": "6cq2BsGwpNra"
      },
      "execution_count": null,
      "outputs": []
    },
    {
      "cell_type": "code",
      "source": [
        "# normalize each sequences\n",
        "\n",
        "A0 /= A0.sum(axis=1, keepdims=True)\n",
        "A1 /= A1.sum(axis=1, keepdims=True)\n",
        "\n",
        "pi0 /= pi0.sum()\n",
        "pi1 /= pi1.sum()\n",
        "\n",
        "# compute priors\n",
        "prior1 = sum(labels) / len(labels)\n",
        "prior0 = 1 - prior1\n",
        "\n",
        "prior1 = np.log10(prior1)\n",
        "prior0 = np.log10(prior0)"
      ],
      "metadata": {
        "id": "E2GRkLWjrF3t"
      },
      "execution_count": null,
      "outputs": []
    },
    {
      "cell_type": "code",
      "source": [
        "# get logs of A and pi matrixes\n",
        "logA0 = np.log10(A0)\n",
        "logA1 = np.log10(A1)\n",
        "\n",
        "logpi0 = np.log10(pi0)\n",
        "logpi1 = np.log10(pi1)"
      ],
      "metadata": {
        "id": "J9OX_QwFwDVp"
      },
      "execution_count": null,
      "outputs": []
    },
    {
      "cell_type": "code",
      "source": [
        "class Classifier:\n",
        "\n",
        "  def __init__(self, pi_list, A_list, priors):\n",
        "    self.pi = pi_list\n",
        "    self.A = A_list\n",
        "    self.priors = priors\n",
        "    self.K = len(self.priors)\n",
        "  \n",
        "  def log_likelihood(self, input, class_):\n",
        "    self.prob = 0\n",
        "    input_pi = self.pi[class_]\n",
        "    input_A = self.A[class_]\n",
        "\n",
        "    inner_index = None\n",
        "    for index in input:\n",
        "        if inner_index is None:\n",
        "        # we add the corresponding pi value of the first index    \n",
        "          self.prob += input_pi[index]\n",
        "        # for the remaining indexes, we add transition values\n",
        "        else:\n",
        "          self.prob += input_A[inner_index, index]\n",
        "        inner_index = index\n",
        "\n",
        "    # finally, we add prior values\n",
        "    return self.prob \n",
        "\n",
        "  def predict(self, inputs):\n",
        "    predictions = np.zeros(len(inputs))\n",
        "    for pred_idx, input in enumerate(inputs):\n",
        "      new_preds = [self.log_likelihood(input, c) + self.priors[c] for c in range(self.K)]\n",
        "      new_result = np.argmax(new_preds)\n",
        "      predictions[pred_idx] = new_result\n",
        "    \n",
        "    return predictions"
      ],
      "metadata": {
        "id": "2pGCXF-krPZj"
      },
      "execution_count": null,
      "outputs": []
    },
    {
      "cell_type": "markdown",
      "source": [
        "## Final Results: \n",
        "\n",
        "* 83% Accuracy\n",
        "* 78% F1 Score"
      ],
      "metadata": {
        "id": "tGZb1_sQJXuu"
      }
    },
    {
      "cell_type": "code",
      "source": [
        "clf = Classifier([logpi0, logpi1], [logA0, logA1], [prior0, prior1])\n",
        "\n",
        "# The markov model hits the train set on the nail\n",
        "train_preds = clf.predict(train_x)\n",
        "(train_preds == train_y).mean()"
      ],
      "metadata": {
        "id": "L2GqOgg_Aect",
        "outputId": "ac377ce6-7ac0-41cb-b1b5-80f01a8f0aa6",
        "colab": {
          "base_uri": "https://localhost:8080/"
        }
      },
      "execution_count": null,
      "outputs": [
        {
          "output_type": "execute_result",
          "data": {
            "text/plain": [
              "0.995937318630296"
            ]
          },
          "metadata": {},
          "execution_count": 33
        }
      ]
    },
    {
      "cell_type": "code",
      "source": [
        "# The accuracy for test set lacks behinds by 15 points\n",
        "test_preds = clf.predict(test_x)\n",
        "(test_preds == test_y).mean()"
      ],
      "metadata": {
        "id": "H8V6IzJZFRcV",
        "outputId": "237de17b-a259-4d08-d277-70a9b7c1bcac",
        "colab": {
          "base_uri": "https://localhost:8080/"
        }
      },
      "execution_count": null,
      "outputs": [
        {
          "output_type": "execute_result",
          "data": {
            "text/plain": [
              "0.8074245939675174"
            ]
          },
          "metadata": {},
          "execution_count": 34
        }
      ]
    },
    {
      "cell_type": "code",
      "source": [
        "# The model performs poorly in terms of false negatives\n",
        "sns.heatmap(confusion_matrix(test_y, test_preds), annot=True)"
      ],
      "metadata": {
        "id": "RskXNqiRJa-g",
        "outputId": "584d0a42-c014-4707-fa18-3d25ad4f5e68",
        "colab": {
          "base_uri": "https://localhost:8080/",
          "height": 283
        }
      },
      "execution_count": null,
      "outputs": [
        {
          "output_type": "execute_result",
          "data": {
            "text/plain": [
              "<Axes: >"
            ]
          },
          "metadata": {},
          "execution_count": 35
        },
        {
          "output_type": "display_data",
          "data": {
            "text/plain": [
              "<Figure size 432x288 with 2 Axes>"
            ],
            "image/png": "[encoded data removed]"
          },
          "metadata": {
            "needs_background": "light"
          }
        }
      ]
    },
    {
      "cell_type": "code",
      "source": [
        "f1_score(test_y, test_preds, average=\"macro\")"
      ],
      "metadata": {
        "id": "Xd-i3cB9Ouj_",
        "outputId": "5b3de702-147c-41b9-f915-5eafb3eeee4f",
        "colab": {
          "base_uri": "https://localhost:8080/"
        }
      },
      "execution_count": null,
      "outputs": [
        {
          "output_type": "execute_result",
          "data": {
            "text/plain": [
              "0.748956118374422"
            ]
          },
          "metadata": {},
          "execution_count": 36
        }
      ]
    },
    {
      "cell_type": "code",
      "source": [],
      "metadata": {
        "id": "BiBGgLObOzHJ"
      },
      "execution_count": null,
      "outputs": []
    }
  ]
}