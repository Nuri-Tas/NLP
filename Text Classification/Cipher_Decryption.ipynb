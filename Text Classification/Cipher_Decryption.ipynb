{
  "nbformat": 4,
  "nbformat_minor": 0,
  "metadata": {
    "colab": {
      "provenance": [],
      "authorship_tag": "ABX9TyMI96I6xBFvGYxAB7/Odhoc",
      "include_colab_link": true
    },
    "kernelspec": {
      "name": "python3",
      "display_name": "Python 3"
    },
    "language_info": {
      "name": "python"
    }
  },
  "cells": [
    {
      "cell_type": "markdown",
      "metadata": {
        "id": "view-in-github",
        "colab_type": "text"
      },
      "source": [
        "<a href=\"https://colab.research.google.com/github/Nuri-Tas/NLP/blob/main/Text%20Classification/Cipher_Decryption.ipynb\" target=\"_parent\"><img src=\"https://colab.research.google.com/assets/colab-badge.svg\" alt=\"Open In Colab\"/></a>"
      ]
    },
    {
      "cell_type": "markdown",
      "source": [
        "# Cipher Decryption"
      ],
      "metadata": {
        "id": "tXuDWTllaUVt"
      }
    },
    {
      "cell_type": "markdown",
      "source": [
        "We'll build a decrypter following a genetic programming approach. We'll start with building simple encoder/decoders that will map each character to another, and we will evolve offspring from random mappings and only make the mappings with the highest likelihood to survive throughout generations."
      ],
      "metadata": {
        "id": "tUdemlEd2s14"
      }
    },
    {
      "cell_type": "code",
      "source": [
        "import string\n",
        "from string import ascii_lowercase\n",
        "import random\n",
        "import numpy as np"
      ],
      "metadata": {
        "id": "h6aofORuNb1l"
      },
      "execution_count": 1,
      "outputs": []
    },
    {
      "cell_type": "code",
      "source": [
        "# we are also goint to add space character to our alphabet\n",
        "alphabet = ascii_lowercase + \" \"\n",
        "\n",
        "shuffled_alphabet = \"\".join(np.random.choice(list(alphabet), size=len(alphabet), replace=False))\n",
        "print(shuffled_alphabet)"
      ],
      "metadata": {
        "colab": {
          "base_uri": "https://localhost:8080/"
        },
        "id": "MMZ_6dVya0sh",
        "outputId": "4c93d2e8-7bd4-44b0-8c51-cc18bcf21568"
      },
      "execution_count": 2,
      "outputs": [
        {
          "output_type": "stream",
          "name": "stdout",
          "text": [
            "czpfhuaovtn eixkmjwldsbrqgy\n"
          ]
        }
      ]
    },
    {
      "cell_type": "code",
      "source": [
        "cypher_dict = dict(zip(alphabet, shuffled_alphabet))\n",
        "decode_dict = {v: k for k, v in cypher_dict.items()}\n",
        "\n",
        "def encode(text):\n",
        "  chars = list(text.lower())\n",
        "  output = \"\"\n",
        "  for char in chars:\n",
        "    output += cypher_dict[char]\n",
        "  return output\n",
        "\n",
        "def decode(text):\n",
        "  chars = list(text.lower())\n",
        "  output = \"\"\n",
        "  for char in chars:\n",
        "    output += decode_dict[char]\n",
        "  return output"
      ],
      "metadata": {
        "id": "6WLDeryKbRyb"
      },
      "execution_count": 3,
      "outputs": []
    },
    {
      "cell_type": "code",
      "source": [
        "encode(\"top secret\")"
      ],
      "metadata": {
        "colab": {
          "base_uri": "https://localhost:8080/",
          "height": 36
        },
        "id": "A_0Vbg-sb6Iq",
        "outputId": "9ae9f28c-21fc-4482-b909-505fe627fd26"
      },
      "execution_count": 4,
      "outputs": [
        {
          "output_type": "execute_result",
          "data": {
            "text/plain": [
              "'lxkywhpjhl'"
            ],
            "application/vnd.google.colaboratory.intrinsic+json": {
              "type": "string"
            }
          },
          "metadata": {},
          "execution_count": 4
        }
      ]
    },
    {
      "cell_type": "code",
      "source": [
        "decode(\"wsul dyodw\")"
      ],
      "metadata": {
        "colab": {
          "base_uri": "https://localhost:8080/",
          "height": 36
        },
        "id": "LYhFkri0c3ph",
        "outputId": "e285c0e7-fd83-4b38-f3fd-fbbf0fb6459f"
      },
      "execution_count": 5,
      "outputs": [
        {
          "output_type": "execute_result",
          "data": {
            "text/plain": [
              "'svftlu hus'"
            ],
            "application/vnd.google.colaboratory.intrinsic+json": {
              "type": "string"
            }
          },
          "metadata": {},
          "execution_count": 5
        }
      ]
    },
    {
      "cell_type": "markdown",
      "source": [
        "We are going to use moby_dict text to develop the markov matrix."
      ],
      "metadata": {
        "id": "I7z5KQHy3dv7"
      }
    },
    {
      "cell_type": "code",
      "source": [
        "!wget -nc https://lazyprogrammer.me/course_files/moby_dick.txt"
      ],
      "metadata": {
        "id": "C6N52iqueBEe",
        "colab": {
          "base_uri": "https://localhost:8080/"
        },
        "outputId": "1d6a585e-bfb2-4755-fdfd-418fc466bed6"
      },
      "execution_count": 6,
      "outputs": [
        {
          "output_type": "stream",
          "name": "stdout",
          "text": [
            "--2023-04-16 13:59:20--  https://lazyprogrammer.me/course_files/moby_dick.txt\n",
            "Resolving lazyprogrammer.me (lazyprogrammer.me)... 104.21.23.210, 172.67.213.166, 2606:4700:3031::6815:17d2, ...\n",
            "Connecting to lazyprogrammer.me (lazyprogrammer.me)|104.21.23.210|:443... connected.\n",
            "HTTP request sent, awaiting response... 200 OK\n",
            "Length: unspecified [text/plain]\n",
            "Saving to: ‘moby_dick.txt’\n",
            "\n",
            "moby_dick.txt           [ <=>                ]   1.17M  --.-KB/s    in 0.1s    \n",
            "\n",
            "2023-04-16 13:59:20 (9.13 MB/s) - ‘moby_dick.txt’ saved [1227649]\n",
            "\n"
          ]
        }
      ]
    },
    {
      "cell_type": "code",
      "source": [
        "with open(\"/content/moby_dick.txt\") as dick_file:\n",
        "   moby = dick_file.read()"
      ],
      "metadata": {
        "id": "U4kBEcwtXi50"
      },
      "execution_count": 7,
      "outputs": []
    },
    {
      "cell_type": "markdown",
      "source": [
        "We will remove every punctuation except periods to be able to find unigram -starting words in our case- distribution."
      ],
      "metadata": {
        "id": "MHJKek5BZHp4"
      }
    },
    {
      "cell_type": "code",
      "source": [
        "def preprocess(text, period_include=True):\n",
        "  if period_include:\n",
        "    return text.translate(str.maketrans(\"\", \"\", string.punctuation)).lower()\n",
        "  else:\n",
        "    return text.translate(str.maketrans(\"\", \"\", string.punctuation.replace(\".\", \"\") )).lower()"
      ],
      "metadata": {
        "id": "sYS0un1WY9Il"
      },
      "execution_count": 8,
      "outputs": []
    },
    {
      "cell_type": "code",
      "source": [
        "moby = preprocess(moby, False)"
      ],
      "metadata": {
        "id": "XgKz_7z5jmK6"
      },
      "execution_count": 9,
      "outputs": []
    },
    {
      "cell_type": "markdown",
      "source": [
        "Our goal is to find the secret decypher. We're going to encode the following text with secret decypher and try to find its original form off the decoded text.\n"
      ],
      "metadata": {
        "id": "Litl-omorUA4"
      }
    },
    {
      "cell_type": "code",
      "source": [
        "TEXT_TO_ENCODE = \"\"\"I then lounged down the street and found,\n",
        "as I expected, that there was a mews in a lane which runs down\n",
        "by one wall of the garden. I lent the ostlers a hand in rubbing\n",
        "down their horses, and received in exchange twopence, a glass of\n",
        "half-and-half, two fills of shag tobacco, and as much information\n",
        "as I could desire about Miss Adler, to say nothing of half a dozen\n",
        "other people in the neighbourhood in whom I was not in the least\n",
        "interested, but whose biographies I was compelled to listen to.\"\"\""
      ],
      "metadata": {
        "id": "_f0-RD_LsGFu"
      },
      "execution_count": 10,
      "outputs": []
    },
    {
      "cell_type": "code",
      "source": [
        "alphabet = list(string.ascii_lowercase)\n",
        "\n",
        "def get_random_map():\n",
        "  shuffled_alphabet = np.random.choice(alphabet, size=len(alphabet), replace=False)\n",
        "  decypher = {k: v for k, v in zip(alphabet, shuffled_alphabet)}\n",
        "  return decypher\n",
        "\n",
        "secret_decypher = get_random_map()\n",
        "\n",
        "def encode(text, mapping):\n",
        "    encoded = text.lower().translate(str.maketrans(\"\".join(mapping.keys()), \"\".join(mapping.values())))\n",
        "    return encoded\n",
        "\n",
        "def decode(text, mapping):\n",
        "    decoded = text.lower().translate(str.maketrans(\"\".join(mapping.values()), \"\".join(mapping.keys())))\n",
        "    return decoded\n",
        "\n",
        "encoded_text = encode(TEXT_TO_ENCODE, secret_decypher)\n",
        "\n",
        "# the encoded text we will be working on \n",
        "print(encoded_text)"
      ],
      "metadata": {
        "id": "2UvapZVqmW1g",
        "colab": {
          "base_uri": "https://localhost:8080/"
        },
        "outputId": "5e2c841d-b9be-4874-d964-5520d99b9c61"
      },
      "execution_count": 11,
      "outputs": [
        {
          "output_type": "stream",
          "name": "stdout",
          "text": [
            "n eqdc ibscodj jbkc eqd wefdde ucj abscj,\n",
            "uw n dgxdledj, eque eqdfd kuw u tdkw nc u iucd kqnlq fscw jbkc\n",
            "zp bcd kuii ba eqd oufjdc. n idce eqd bweidfw u qucj nc fszznco\n",
            "jbkc eqdnf qbfwdw, ucj fdldnvdj nc dglqucod ekbxdcld, u oiuww ba\n",
            "quia-ucj-quia, ekb aniiw ba wquo ebzullb, ucj uw tslq ncabftuenbc\n",
            "uw n lbsij jdwnfd uzbse tnww ujidf, eb wup cbeqnco ba quia u jbydc\n",
            "beqdf xdbxid nc eqd cdnoqzbsfqbbj nc kqbt n kuw cbe nc eqd iduwe\n",
            "ncedfdwedj, zse kqbwd znbofuxqndw n kuw lbtxdiidj eb inwedc eb.\n"
          ]
        }
      ]
    },
    {
      "cell_type": "code",
      "source": [
        "random_map = get_random_map()\n",
        "\n",
        "random_decoded = decode(encoded_text, random_map)\n",
        "print(random_decoded)"
      ],
      "metadata": {
        "colab": {
          "base_uri": "https://localhost:8080/"
        },
        "id": "Icq6mThksaXp",
        "outputId": "25499266-13eb-4fba-fa8a-d30807879866"
      },
      "execution_count": 12,
      "outputs": [
        {
          "output_type": "stream",
          "name": "stdout",
          "text": [
            "s yorh umkhlrv vmdh yor qyarry thv emkhv,\n",
            "tq s rnpriyrv, yoty yorar dtq t xrdq sh t uthr dosio akhq vmdh\n",
            "zj mhr dtuu me yor ltavrh. s urhy yor mqyuraq t othv sh akzzshl\n",
            "vmdh yorsa omaqrq, thv arirsbrv sh rniothlr ydmprhir, t lutqq me\n",
            "otue-thv-otue, ydm esuuq me qotl ymztiim, thv tq xkio shemaxtysmh\n",
            "tq s imkuv vrqsar tzmky xsqq tvura, ym qtj hmyoshl me otue t vmfrh\n",
            "myora prmpur sh yor hrslozmkaommv sh domx s dtq hmy sh yor urtqy\n",
            "shyrarqyrv, zky domqr zsmlatposrq s dtq imxpruurv ym usqyrh ym.\n"
          ]
        }
      ]
    },
    {
      "cell_type": "markdown",
      "source": [
        "Let's now create bigrams based on characters for the entire corpus. We'll initialize a 26x26 Markov matrix and represent the characters in their respective order. Similarly, we will store the probability of starting character in the pi vector."
      ],
      "metadata": {
        "id": "1qJmLzOEcRhz"
      }
    },
    {
      "cell_type": "code",
      "source": [
        "chars_idx = {char: alphabet.index(char) for char in alphabet}\n",
        "\n",
        "V = len(alphabet)\n",
        "pi = np.ones(V)\n",
        "A = np.ones((V, V))\n",
        "\n",
        "chars = [chars_idx.get(item, -1) for item in list(moby)]\n",
        "for i in range(len(chars)-1):\n",
        "  first, second = chars[i], chars[i+1]\n",
        "  if (first != -1) and (second != -1):\n",
        "    A[first, second] += 1\n",
        "  elif (first == -1) and (second != -1):\n",
        "    pi[second] += 1\n",
        "\n",
        "# normalize matrixes and dampen them\n",
        "pi /= pi.sum()\n",
        "A /=  A.sum()\n",
        "\n",
        "logpi = np.log10(pi)\n",
        "logA = np.log10(A)"
      ],
      "metadata": {
        "id": "r8G6ZFasxTTr"
      },
      "execution_count": 13,
      "outputs": []
    },
    {
      "cell_type": "markdown",
      "source": [
        "We will calculate the log likelihood of each decoded text we obtained."
      ],
      "metadata": {
        "id": "s62D5wtNOtOs"
      }
    },
    {
      "cell_type": "code",
      "source": [
        "def log_likelihood(text):\n",
        "  prob = 0\n",
        "  text_chars = [chars_idx.get(item, -1) for item in list(text)]\n",
        "  for i in range(len(text_chars)-1):\n",
        "    first, second = text_chars[i], text_chars[i+1]\n",
        "    if (first != -1) and (second != -1):\n",
        "      prob += logA[first, second]\n",
        "    if (first == -1) and (second != -1):\n",
        "      prob += logpi[second]\n",
        "  \n",
        "  return prob"
      ],
      "metadata": {
        "id": "WqQTposxuwSN"
      },
      "execution_count": 14,
      "outputs": []
    },
    {
      "cell_type": "code",
      "source": [
        "log_likelihood(\"hello\")"
      ],
      "metadata": {
        "colab": {
          "base_uri": "https://localhost:8080/"
        },
        "id": "FFOAwZdEsur4",
        "outputId": "42658dc5-8e10-4d59-a2ee-87080f9131b0"
      },
      "execution_count": 15,
      "outputs": [
        {
          "output_type": "execute_result",
          "data": {
            "text/plain": [
              "-8.114388885842335"
            ]
          },
          "metadata": {},
          "execution_count": 15
        }
      ]
    },
    {
      "cell_type": "code",
      "source": [
        "log_likelihood(\"adsfd\")"
      ],
      "metadata": {
        "colab": {
          "base_uri": "https://localhost:8080/"
        },
        "id": "vvHi2sbttn4b",
        "outputId": "7d65fb25-a240-4b23-c567-f9a424a93c48"
      },
      "execution_count": 16,
      "outputs": [
        {
          "output_type": "execute_result",
          "data": {
            "text/plain": [
              "-14.631202932957311"
            ]
          },
          "metadata": {},
          "execution_count": 16
        }
      ]
    },
    {
      "cell_type": "markdown",
      "source": [
        "As expected, the log likelihood of the first random decoded text will result in a great negative number."
      ],
      "metadata": {
        "id": "3AQGF7Egw8z5"
      }
    },
    {
      "cell_type": "code",
      "source": [
        "log_likelihood(random_decoded)"
      ],
      "metadata": {
        "colab": {
          "base_uri": "https://localhost:8080/"
        },
        "id": "jYsN2VMGw0JK",
        "outputId": "94cb8f1f-c15e-4a17-b3b8-f5617f8145ed"
      },
      "execution_count": 17,
      "outputs": [
        {
          "output_type": "execute_result",
          "data": {
            "text/plain": [
              "-1224.6547874294424"
            ]
          },
          "metadata": {},
          "execution_count": 17
        }
      ]
    },
    {
      "cell_type": "markdown",
      "source": [
        "We are going to create 3 children per parent by swapping only two characters."
      ],
      "metadata": {
        "id": "sRy0YyVE3vNi"
      }
    },
    {
      "cell_type": "code",
      "source": [
        "dna_pool = []\n",
        "for _ in range(20):\n",
        "  parent = np.random.choice(alphabet, size=len(alphabet), replace=False)\n",
        "  dna_pool.append(parent)\n",
        "\n",
        "def children(dna_pool, no_of_children):\n",
        "  children_pool = []\n",
        "  for dna in dna_pool:\n",
        "    for _ in range(no_of_children):\n",
        "      dna_copy = dna.copy()\n",
        "      i, j = np.random.randint(26), np.random.randint(26)\n",
        "      dna_copy[i], dna_copy[j] = dna_copy[j], dna_copy[i] \n",
        "      children_pool.append(dna_copy)\n",
        "  \n",
        "  return dna_pool + children_pool "
      ],
      "metadata": {
        "id": "7-1x554YO9_G"
      },
      "execution_count": 18,
      "outputs": []
    },
    {
      "cell_type": "markdown",
      "source": [
        "At each iteration, we will only save the first 5 mappings with the highest score, and evolve offsprings for 1000 generations. "
      ],
      "metadata": {
        "id": "UZn0WFqN33r5"
      }
    },
    {
      "cell_type": "code",
      "source": [
        "best_dna = None\n",
        "best_map = None\n",
        "best_likelihood = float(\"-inf\")\n",
        "\n",
        "for i in range(1000):\n",
        "  if i > 0:\n",
        "    dna_pool = children(dna_pool, 3)\n",
        "\n",
        "  scores = {}\n",
        "  for dna in dna_pool:\n",
        "    new_map = {k: v for k, v in zip(alphabet, dna)}\n",
        "    new_likelihood = log_likelihood(decode(encoded_text, new_map))\n",
        "    scores[\"\".join(dna)] = new_likelihood\n",
        "\n",
        "    if new_likelihood > best_likelihood:\n",
        "      best_dna = dna  \n",
        "      best_likelihood = new_likelihood\n",
        "      best_map = new_map\n",
        "\n",
        "    # only let the first five dna with the highest likelihood to survive\n",
        "    dna_sorted = sorted(scores.items(), key=lambda x: x[1], reverse=True)\n",
        "    dna_pool = [list(k) for k, v in dna_sorted[:5]]\n",
        "\n",
        "  if (i % 100) == 0:\n",
        "    print(\"Best score so far:\", best_likelihood)"
      ],
      "metadata": {
        "colab": {
          "base_uri": "https://localhost:8080/"
        },
        "id": "NluAXl48RFLj",
        "outputId": "b2730b1b-2d2d-4d87-a4fd-97bd7b27d177"
      },
      "execution_count": 19,
      "outputs": [
        {
          "output_type": "stream",
          "name": "stdout",
          "text": [
            "Best score so far: -1223.6839746156252\n",
            "Best score so far: -930.3637479029846\n",
            "Best score so far: -900.7511150978613\n",
            "Best score so far: -898.8440007532588\n",
            "Best score so far: -898.8440007532588\n",
            "Best score so far: -898.8440007532588\n",
            "Best score so far: -898.8440007532588\n",
            "Best score so far: -898.8440007532588\n",
            "Best score so far: -898.8440007532588\n",
            "Best score so far: -898.8440007532588\n"
          ]
        }
      ]
    },
    {
      "cell_type": "markdown",
      "source": [
        "## Final Result\n",
        "\n",
        "Our final decypeher yielded in the following decoded text, which although contains little mistakes, achieved an impressive result. "
      ],
      "metadata": {
        "id": "kvKoXpLaz4nd"
      }
    },
    {
      "cell_type": "code",
      "source": [
        "# decoded text from the map we built\n",
        "best_text = decode(encoded_text, best_map)\n",
        "best_text"
      ],
      "metadata": {
        "colab": {
          "base_uri": "https://localhost:8080/",
          "height": 72
        },
        "id": "eL8xylNwwSkn",
        "outputId": "4ca34486-e83a-4585-e915-fd9194bad407"
      },
      "execution_count": 20,
      "outputs": [
        {
          "output_type": "execute_result",
          "data": {
            "text/plain": [
              "'s atri olmicrn nlwi atr eaurra hin dlmin,\\nhe s rkfrparn, atha atrur whe h grwe si h ohir wtspt umie nlwi\\nby lir whoo ld atr chunri. s oria atr leaorue h thin si umbbsic\\nnlwi atrsu tluere, hin urprsqrn si rkpthicr awlfripr, h cohee ld\\nthod-hin-thod, awl dsooe ld ethc albhppl, hin he gmpt sidlughasli\\nhe s plmon nresur hblma gsee hnoru, al ehy ilatsic ld thod h nlvri\\nlatru frlfor si atr irsctblmutlln si wtlg s whe ila si atr orhea\\nsiarurearn, bma wtler bslcuhftsre s whe plgfroorn al oseari al.'"
            ],
            "application/vnd.google.colaboratory.intrinsic+json": {
              "type": "string"
            }
          },
          "metadata": {},
          "execution_count": 20
        }
      ]
    },
    {
      "cell_type": "code",
      "source": [
        "# actual encoded text\n",
        "actual_text = decode(encoded_text, secret_decypher)\n",
        "actual_text"
      ],
      "metadata": {
        "colab": {
          "base_uri": "https://localhost:8080/",
          "height": 72
        },
        "id": "faokQwPzRKC2",
        "outputId": "a787fe26-7e5a-45d6-f069-dfd0d3f6a25d"
      },
      "execution_count": 21,
      "outputs": [
        {
          "output_type": "execute_result",
          "data": {
            "text/plain": [
              "'i then lounged down the street and found,\\nas i expected, that there was a mews in a lane which runs down\\nby one wall of the garden. i lent the ostlers a hand in rubbing\\ndown their horses, and received in exchange twopence, a glass of\\nhalf-and-half, two fills of shag tobacco, and as much information\\nas i could desire about miss adler, to say nothing of half a dozen\\nother people in the neighbourhood in whom i was not in the least\\ninterested, but whose biographies i was compelled to listen to.'"
            ],
            "application/vnd.google.colaboratory.intrinsic+json": {
              "type": "string"
            }
          },
          "metadata": {},
          "execution_count": 21
        }
      ]
    },
    {
      "cell_type": "markdown",
      "source": [
        "We can also realize the small difference on likelihood values as well. Evidently, the likelihood of the best text is higher than the actual text."
      ],
      "metadata": {
        "id": "Qpb_YPUq1mlE"
      }
    },
    {
      "cell_type": "code",
      "source": [
        "print(\"Likelihood of the actual text:\",  log_likelihood(actual_text), \"Likelihood of the best text:\",  log_likelihood(best_text), sep=\"\\n\")"
      ],
      "metadata": {
        "id": "ViJ6dztKnWEl",
        "colab": {
          "base_uri": "https://localhost:8080/"
        },
        "outputId": "5f9cdc92-e9c4-42d7-ae88-171b3382c4ea"
      },
      "execution_count": 22,
      "outputs": [
        {
          "output_type": "stream",
          "name": "stdout",
          "text": [
            "Likelihood of the actual text:\n",
            "-769.4198483288895\n",
            "Likelihood of the best text:\n",
            "-898.8440007532588\n"
          ]
        }
      ]
    },
    {
      "cell_type": "code",
      "source": [],
      "metadata": {
        "id": "D3b7rtqg11V7"
      },
      "execution_count": 22,
      "outputs": []
    }
  ]
}