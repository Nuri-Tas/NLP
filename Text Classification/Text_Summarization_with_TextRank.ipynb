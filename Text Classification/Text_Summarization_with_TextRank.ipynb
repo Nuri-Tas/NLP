{
  "nbformat": 4,
  "nbformat_minor": 0,
  "metadata": {
    "colab": {
      "provenance": [],
      "authorship_tag": "ABX9TyMnGT8/pXJ5OyG2JvT1fPae",
      "include_colab_link": true
    },
    "kernelspec": {
      "name": "python3",
      "display_name": "Python 3"
    },
    "language_info": {
      "name": "python"
    }
  },
  "cells": [
    {
      "cell_type": "markdown",
      "metadata": {
        "id": "view-in-github",
        "colab_type": "text"
      },
      "source": [
        "<a href=\"https://colab.research.google.com/github/Nuri-Tas/NLP/blob/main/Text%20Classification/Text_Summarization_with_TextRank.ipynb\" target=\"_parent\"><img src=\"https://colab.research.google.com/assets/colab-badge.svg\" alt=\"Open In Colab\"/></a>"
      ]
    },
    {
      "cell_type": "markdown",
      "source": [
        "In this notebook, we will build extractive text summarization tools. Before getting into TextRank, we are going to implement a quite straightforward text summarization algorithm by returning sentences based on their tf-idf scores. We will then implement the TextRank algorithm and compare the summaries with the simple algorithm."
      ],
      "metadata": {
        "id": "bx_bfemQUm76"
      }
    },
    {
      "cell_type": "code",
      "execution_count": 4,
      "metadata": {
        "id": "_QCUmUGeL35T"
      },
      "outputs": [],
      "source": [
        "import numpy as np\n",
        "import pandas as pd\n",
        "import nltk"
      ]
    },
    {
      "cell_type": "markdown",
      "source": [
        "# Simple Algorithm"
      ],
      "metadata": {
        "id": "DpfnXFsDtzEy"
      }
    },
    {
      "cell_type": "markdown",
      "source": [
        "## Load Data\n",
        "\n",
        "We will work with BBC News dataset. The following code may throw out HTTP ERROR 403. You can still download the dataset in the given link."
      ],
      "metadata": {
        "id": "xU3XG_pvVJCr"
      }
    },
    {
      "cell_type": "code",
      "source": [
        "# https://www.kaggle.com/shivamkushwaha/bbc-full-text-document-classification\n",
        "!wget -nc https://lazyprogrammer.me/course_files/nlp/bbc_text_cls.csv"
      ],
      "metadata": {
        "colab": {
          "base_uri": "https://localhost:8080/"
        },
        "id": "Ft5dT5f9PO50",
        "outputId": "8e9c74ca-d76b-48f5-b638-d7d92faefcd6"
      },
      "execution_count": 11,
      "outputs": [
        {
          "output_type": "stream",
          "name": "stdout",
          "text": [
            "File ‘bbc_text_cls.csv’ already there; not retrieving.\n",
            "\n"
          ]
        }
      ]
    },
    {
      "cell_type": "markdown",
      "source": [
        "Each row corresponds to a different news article. We will summarize three random news articles."
      ],
      "metadata": {
        "id": "yQC8x6ujXd7n"
      }
    },
    {
      "cell_type": "code",
      "source": [
        "df = pd.read_csv(\"/content/bbc_text_cls.csv\")\n",
        "df.head()"
      ],
      "metadata": {
        "colab": {
          "base_uri": "https://localhost:8080/",
          "height": 206
        },
        "id": "_13f1PBVPPQz",
        "outputId": "9db658ff-7051-4aa0-cecf-24e3d4de86e9"
      },
      "execution_count": 12,
      "outputs": [
        {
          "output_type": "execute_result",
          "data": {
            "text/plain": [
              "                                                text    labels\n",
              "0  Ad sales boost Time Warner profit\\n\\nQuarterly...  business\n",
              "1  Dollar gains on Greenspan speech\\n\\nThe dollar...  business\n",
              "2  Yukos unit buyer faces loan claim\\n\\nThe owner...  business\n",
              "3  High fuel prices hit BA's profits\\n\\nBritish A...  business\n",
              "4  Pernod takeover talk lifts Domecq\\n\\nShares in...  business"
            ],
            "text/html": [
              "\n",
              "  <div id=\"df-f4b92550-23ed-4b06-ba89-cc46835e6a83\">\n",
              "    <div class=\"colab-df-container\">\n",
              "      <div>\n",
              "<style scoped>\n",
              "    .dataframe tbody tr th:only-of-type {\n",
              "        vertical-align: middle;\n",
              "    }\n",
              "\n",
              "    .dataframe tbody tr th {\n",
              "        vertical-align: top;\n",
              "    }\n",
              "\n",
              "    .dataframe thead th {\n",
              "        text-align: right;\n",
              "    }\n",
              "</style>\n",
              "<table border=\"1\" class=\"dataframe\">\n",
              "  <thead>\n",
              "    <tr style=\"text-align: right;\">\n",
              "      <th></th>\n",
              "      <th>text</th>\n",
              "      <th>labels</th>\n",
              "    </tr>\n",
              "  </thead>\n",
              "  <tbody>\n",
              "    <tr>\n",
              "      <th>0</th>\n",
              "      <td>Ad sales boost Time Warner profit\\n\\nQuarterly...</td>\n",
              "      <td>business</td>\n",
              "    </tr>\n",
              "    <tr>\n",
              "      <th>1</th>\n",
              "      <td>Dollar gains on Greenspan speech\\n\\nThe dollar...</td>\n",
              "      <td>business</td>\n",
              "    </tr>\n",
              "    <tr>\n",
              "      <th>2</th>\n",
              "      <td>Yukos unit buyer faces loan claim\\n\\nThe owner...</td>\n",
              "      <td>business</td>\n",
              "    </tr>\n",
              "    <tr>\n",
              "      <th>3</th>\n",
              "      <td>High fuel prices hit BA's profits\\n\\nBritish A...</td>\n",
              "      <td>business</td>\n",
              "    </tr>\n",
              "    <tr>\n",
              "      <th>4</th>\n",
              "      <td>Pernod takeover talk lifts Domecq\\n\\nShares in...</td>\n",
              "      <td>business</td>\n",
              "    </tr>\n",
              "  </tbody>\n",
              "</table>\n",
              "</div>\n",
              "      <button class=\"colab-df-convert\" onclick=\"convertToInteractive('df-f4b92550-23ed-4b06-ba89-cc46835e6a83')\"\n",
              "              title=\"Convert this dataframe to an interactive table.\"\n",
              "              style=\"display:none;\">\n",
              "        \n",
              "  <svg xmlns=\"http://www.w3.org/2000/svg\" height=\"24px\"viewBox=\"0 0 24 24\"\n",
              "       width=\"24px\">\n",
              "    <path d=\"M0 0h24v24H0V0z\" fill=\"none\"/>\n",
              "    <path d=\"M18.56 5.44l.94 2.06.94-2.06 2.06-.94-2.06-.94-.94-2.06-.94 2.06-2.06.94zm-11 1L8.5 8.5l.94-2.06 2.06-.94-2.06-.94L8.5 2.5l-.94 2.06-2.06.94zm10 10l.94 2.06.94-2.06 2.06-.94-2.06-.94-.94-2.06-.94 2.06-2.06.94z\"/><path d=\"M17.41 7.96l-1.37-1.37c-.4-.4-.92-.59-1.43-.59-.52 0-1.04.2-1.43.59L10.3 9.45l-7.72 7.72c-.78.78-.78 2.05 0 2.83L4 21.41c.39.39.9.59 1.41.59.51 0 1.02-.2 1.41-.59l7.78-7.78 2.81-2.81c.8-.78.8-2.07 0-2.86zM5.41 20L4 18.59l7.72-7.72 1.47 1.35L5.41 20z\"/>\n",
              "  </svg>\n",
              "      </button>\n",
              "      \n",
              "  <style>\n",
              "    .colab-df-container {\n",
              "      display:flex;\n",
              "      flex-wrap:wrap;\n",
              "      gap: 12px;\n",
              "    }\n",
              "\n",
              "    .colab-df-convert {\n",
              "      background-color: #E8F0FE;\n",
              "      border: none;\n",
              "      border-radius: 50%;\n",
              "      cursor: pointer;\n",
              "      display: none;\n",
              "      fill: #1967D2;\n",
              "      height: 32px;\n",
              "      padding: 0 0 0 0;\n",
              "      width: 32px;\n",
              "    }\n",
              "\n",
              "    .colab-df-convert:hover {\n",
              "      background-color: #E2EBFA;\n",
              "      box-shadow: 0px 1px 2px rgba(60, 64, 67, 0.3), 0px 1px 3px 1px rgba(60, 64, 67, 0.15);\n",
              "      fill: #174EA6;\n",
              "    }\n",
              "\n",
              "    [theme=dark] .colab-df-convert {\n",
              "      background-color: #3B4455;\n",
              "      fill: #D2E3FC;\n",
              "    }\n",
              "\n",
              "    [theme=dark] .colab-df-convert:hover {\n",
              "      background-color: #434B5C;\n",
              "      box-shadow: 0px 1px 3px 1px rgba(0, 0, 0, 0.15);\n",
              "      filter: drop-shadow(0px 1px 2px rgba(0, 0, 0, 0.3));\n",
              "      fill: #FFFFFF;\n",
              "    }\n",
              "  </style>\n",
              "\n",
              "      <script>\n",
              "        const buttonEl =\n",
              "          document.querySelector('#df-f4b92550-23ed-4b06-ba89-cc46835e6a83 button.colab-df-convert');\n",
              "        buttonEl.style.display =\n",
              "          google.colab.kernel.accessAllowed ? 'block' : 'none';\n",
              "\n",
              "        async function convertToInteractive(key) {\n",
              "          const element = document.querySelector('#df-f4b92550-23ed-4b06-ba89-cc46835e6a83');\n",
              "          const dataTable =\n",
              "            await google.colab.kernel.invokeFunction('convertToInteractive',\n",
              "                                                     [key], {});\n",
              "          if (!dataTable) return;\n",
              "\n",
              "          const docLinkHtml = 'Like what you see? Visit the ' +\n",
              "            '<a target=\"_blank\" href=https://colab.research.google.com/notebooks/data_table.ipynb>data table notebook</a>'\n",
              "            + ' to learn more about interactive tables.';\n",
              "          element.innerHTML = '';\n",
              "          dataTable['output_type'] = 'display_data';\n",
              "          await google.colab.output.renderOutput(dataTable, element);\n",
              "          const docLink = document.createElement('div');\n",
              "          docLink.innerHTML = docLinkHtml;\n",
              "          element.appendChild(docLink);\n",
              "        }\n",
              "      </script>\n",
              "    </div>\n",
              "  </div>\n",
              "  "
            ]
          },
          "metadata": {},
          "execution_count": 12
        }
      ]
    },
    {
      "cell_type": "code",
      "source": [
        "# we need to download punk from nltk to work with nltk.sent_tokenize\n",
        "nltk.download(\"punkt\")"
      ],
      "metadata": {
        "id": "AjExAEAEP6mX",
        "colab": {
          "base_uri": "https://localhost:8080/"
        },
        "outputId": "f9f61337-12bf-4ef3-f545-50ce4ae4553a"
      },
      "execution_count": 13,
      "outputs": [
        {
          "output_type": "stream",
          "name": "stderr",
          "text": [
            "[nltk_data] Downloading package punkt to /root/nltk_data...\n",
            "[nltk_data]   Unzipping tokenizers/punkt.zip.\n"
          ]
        },
        {
          "output_type": "execute_result",
          "data": {
            "text/plain": [
              "True"
            ]
          },
          "metadata": {},
          "execution_count": 13
        }
      ]
    },
    {
      "cell_type": "markdown",
      "source": [
        "## Build the Algorithm"
      ],
      "metadata": {
        "id": "Z3duMh9IrjUq"
      }
    },
    {
      "cell_type": "markdown",
      "source": [
        " `Summarize` class contains both the simple algorithm and the TextRank algorithm. As mentioned previously, it suffices to set `score_method` accordingly to reach to a specific method's summarization as both methods only differ in the way they score sentences."
      ],
      "metadata": {
        "id": "3VsKv60XXlJH"
      }
    },
    {
      "cell_type": "code",
      "source": [
        "class Summarize:\n",
        "  def __init__(self, article=None):\n",
        "    if article is not None:\n",
        "      self.article = article\n",
        "      self.documents = nltk.sent_tokenize(self.article)\n",
        "\n",
        "  # create a class if no article is specified\n",
        "  @classmethod\n",
        "  def get_random_article(self):\n",
        "    article_no = np.random.choice(len(df))\n",
        "    article = df.loc[article_no, \"text\"]\n",
        "    return Summarize(article)\n",
        "\n",
        "  # create a class to retrieve during the call for the methods\n",
        "  @classmethod\n",
        "  def get_article(self, article):\n",
        "    return Summarize(article)\n",
        "\n",
        "  def get_vocabulary(self):\n",
        "      vocabulary = []\n",
        "      for doc in self.documents:\n",
        "        doc = doc.lower()\n",
        "        for word in doc.split():\n",
        "          if word not in vocabulary:\n",
        "            vocabulary.append(word)\n",
        "      return vocabulary\n",
        "\n",
        "  def get_tfidf(self):\n",
        "      vocabulary = self.get_vocabulary()\n",
        "      # build tf and idf vectors \n",
        "      term_frequency = [[doc.lower().count(word) for word in vocabulary] for doc in self.documents]\n",
        "      inverse_document_frequency = [len(self.documents) / sum([word in doc.lower() for doc in self.documents]) for word in vocabulary]\n",
        "\n",
        "      # concatenate as tf-idf\n",
        "      tf_idf = [[tf*idf for tf, idf in zip(doc, inverse_document_frequency)] for doc in term_frequency]\n",
        "      return tf_idf\n",
        "      \n",
        "  def cosine_similarity(self, article, alpha=0.001):\n",
        "      self = self.get_article(article)\n",
        "      tfidf = self.get_tfidf()\n",
        "      tfidf = [[item / sum(row) for item in row] for row in tfidf]\n",
        "      cos_sim_vector = np.empty((len(self.documents), len(self.documents)))\n",
        "      for i in range(len(tfidf)):\n",
        "        for j in range(len(tfidf)):\n",
        "            item1, item2 = tfidf[i], tfidf[j]\n",
        "            dot_product = np.sum([i1 * j1 for i1, j1 in zip(item1, item2)])\n",
        "            norm1 = np.sqrt(np.sum([item**2 for item in item1]))\n",
        "            norm2 = np.sqrt(np.sum([item**2 for item in item2]))\n",
        "            cos_similarity = dot_product / (norm1 * norm2)\n",
        "            if cos_similarity != 0:\n",
        "              cos_sim_vector[i, j] = cos_similarity\n",
        "            else:\n",
        "              cos_sim_vector[i, j] = alpha / len(tfidf)\n",
        "      return cos_sim_vector\n",
        "\n",
        "  # ranks the sentences based on the mean tf-idf scores per sentence - terms with zero tf-idf scores are ignored when calculating the mean\n",
        "  def simple_score(self, article):\n",
        "      self = self.get_article(article)\n",
        "      tf_idf = self.get_tfidf()\n",
        "      sentence_scores = [(self.documents[idx], np.mean([item for item in row if item != 0])) for idx, row in enumerate(tf_idf)]\n",
        "      return sentence_scores\n",
        "  \n",
        "  # ranks the sentences based on the values they have in the dominant eigenvector\n",
        "  def textrank_score(self, article):\n",
        "      cos_similarity = self.cosine_similarity(article)\n",
        "      eigen_values, eigen_vectors = np.linalg.eigh(cos_similarity)\n",
        "      # numpy returns the eigenvalues in the ascending order\n",
        "      # so sentence scores will correspond to the dominant eigenvector\n",
        "      sentence_scores = [(self.documents[idx], item) for idx, item in  enumerate(eigen_vectors[-1])]\n",
        "      return sentence_scores\n",
        "\n",
        "  # return the top three sentences based on the score method, i.e. either simple score or TextRank. The default is simple.\n",
        "  def get_summary(self, article=None, score_method=\"simple\"):\n",
        "      if article is None:\n",
        "        self = self.get_random_article()\n",
        "      else:\n",
        "        self = self.get_article(article)\n",
        "\n",
        "      if score_method == \"simple\":\n",
        "        sentence_scores = self.simple_score(article)\n",
        "      elif score_method == \"textrank\":\n",
        "        sentence_scores = self.textrank_score(article)\n",
        "\n",
        "      top_three = sorted(sentence_scores, key=lambda x: x[1], reverse=True)\n",
        "      summarized = \" \".join([item[0] for item in top_three[:3]])\n",
        "\n",
        "      print(\"The main article is:\", self.article, sep=\"\\n\")\n",
        "      print(\"---------------\")\n",
        "      print(\"The summarized version is:\", summarized, sep=\"\\n\")"
      ],
      "metadata": {
        "id": "NfXrEtfxNW2x"
      },
      "execution_count": 126,
      "outputs": []
    },
    {
      "cell_type": "markdown",
      "source": [
        "## Summarization Examples with the Simple Algorithm"
      ],
      "metadata": {
        "id": "NmouWJtqihe0"
      }
    },
    {
      "cell_type": "code",
      "source": [
        "summarizer = Summarize()"
      ],
      "metadata": {
        "id": "AiDr-5zUPgF_"
      },
      "execution_count": 128,
      "outputs": []
    },
    {
      "cell_type": "code",
      "source": [
        "article_no = np.random.choice(len(df))\n",
        "sample1 = df.loc[article_no, \"text\"]\n",
        "summarizer.get_summary(sample1)"
      ],
      "metadata": {
        "id": "Ajmob-nzQmNq",
        "colab": {
          "base_uri": "https://localhost:8080/"
        },
        "outputId": "5e317e97-58a4-4e99-d39a-39538f443285"
      },
      "execution_count": 129,
      "outputs": [
        {
          "output_type": "stream",
          "name": "stdout",
          "text": [
            "The main article is:\n",
            "Why Cell will get the hard sell\n",
            "\n",
            "The world is casting its gaze on the Cell processor for the first time, but what is so important about it, and why is it so different?\n",
            "\n",
            "The backers of the processor are big names in the computer industry. IBM is one of the largest and most respected chip-makers in the world, providing cutting edge technology to large businesses. Sony will be using the chip inside its PlayStation 3 console, and its dominance of the games market means that it now has a lot of power to dictate the future of computer and gaming platforms. The technology inside the Cell is being heralded as revolutionary, from a technical standpoint. Traditional computers - whether they are household PCs or PlayStation 2s - use a single processor to carry out the calculations that run the computer. The Cell technology, on the other hand, uses multiple Cell processors linked together to run lots of calculations simultaneously.\n",
            "\n",
            "This gives it processing power an order of magnitude above its competitors. Whilst its rivals are working on similar technology, it is Sony's which is the most advanced. The speed of computer memory has been slowly increasing over the last few years, but the memory technology that accompanies the Cell is a huge leap in performance.\n",
            "\n",
            "Using a technology called XDR, created by American firm Rambus, memory can run up to eight times faster than the current standard being promoted by Intel. Perhaps more important than any of the technology is the Cell's role in the imminent \"war on living rooms\". The big trend predicted for this year is the convergence of computers with home entertainment devices such as DVD players and hi-fis. Companies like Microsoft and Sony believe that there is a lot of money to be made by putting a computer underneath the TV of every household and then offering services such as music and video downloads, as well as giving an individual access to all the media they already own in one place.\n",
            "\n",
            "Microsoft has already made its first tactical move into this area with its Windows Media Center software, which has been adopted by many PC makers. Sony had a stab at something similar with the PSX - a variation on the PlayStation - last year in Japan, although this attempt was generally seen as a failure. Both companies believe that increasing the capabilities of games consoles, to make them as powerful as PCs, will make the technology accessible enough to persuade buyers to give them pride of place on the video rack.\n",
            "\n",
            "Sony and IBM want to make sure that the dominance of the PC market enjoyed by Microsoft and Intel is not allowed to extend to this market. By creating a radically new architecture, and using that architecture in a games console that is sure to be a huge seller, they hope that the Cell processor can become the dominant technology in the living room, shutting out their rivals. Once they have established themselves under the TV, there is no doubt that they hope to use this as a base camp to extend their might into our traditional PCs and instigate a regime change on the desktop. Cell is, in fact, specifically designed to be deployed throughout the house. The links between the multiple processors can also be extended to reach Cell processors in entirely different systems.\n",
            "\n",
            "Sony hopes to put Cells in televisions, kitchen appliances and anywhere that could use any sort of computer chip. Each Cell will be linked to the others, creating a vast home network of computing power. Resources of the Cells across the house can be pooled to provide more power, and the links can also be used to enable devices to talk to each other, so that you can programme your microwave from your TV, for example. This digital home of the future depends on the widespread adoption of the Cell processor and there are, as with all things, a number of reasons it could fail. Because the processor is so different, it requires programmers to learn a different way of writing software, and it may be that the changeover is simply too difficult for them to master. You can also guarantee that Microsoft and Intel are not going to sit around and let Cell take over home computing without a fight. Microsoft is going to be pushing its Xbox 2 as hard as possible to make sure that its technology, not Sony's, will be under your tree next Christmas. Intel will be furiously working on new designs that address the problems of its current chips to create a rival technology to Cell, so that it doesn't lose its desktop PC dominance. If Cell succeeds in becoming the living room technology of choice, however, it could provide the jump-start to the fully digital home of the future. The revolution might not be televised, but it could well be played with a videogame controller.\n",
            "---------------\n",
            "The summarized version is:\n",
            "Using a technology called XDR, created by American firm Rambus, memory can run up to eight times faster than the current standard being promoted by Intel. Sony had a stab at something similar with the PSX - a variation on the PlayStation - last year in Japan, although this attempt was generally seen as a failure. Companies like Microsoft and Sony believe that there is a lot of money to be made by putting a computer underneath the TV of every household and then offering services such as music and video downloads, as well as giving an individual access to all the media they already own in one place.\n"
          ]
        }
      ]
    },
    {
      "cell_type": "code",
      "source": [
        "article_no = np.random.choice(len(df))\n",
        "sample2 = df.loc[article_no, \"text\"]\n",
        "summarizer.get_summary(sample2)"
      ],
      "metadata": {
        "id": "Sw04tDmUT7RW",
        "colab": {
          "base_uri": "https://localhost:8080/"
        },
        "outputId": "957e1c7a-a534-42b7-d701-df31ed313d46"
      },
      "execution_count": 130,
      "outputs": [
        {
          "output_type": "stream",
          "name": "stdout",
          "text": [
            "The main article is:\n",
            "Sony PSP console hits US in March\n",
            "\n",
            "US gamers will be able to buy Sony's PlayStation Portable from 24 March, but there is no news of a Europe debut.\n",
            "\n",
            "The handheld console will go on sale for $250 (£132) and the first million sold will come with Spider-Man 2 on UMD, the disc format for the machine. Sony has billed the machine as the Walkman of the 21st Century and has sold more than 800,000 units in Japan. The console (12cm by 7.4cm) will play games, movies and music and also offers support for wireless gaming. Sony is entering a market which has been dominated by Nintendo for many years.\n",
            "\n",
            "It launched its DS handheld in Japan and the US last year and has sold 2.8 million units. Sony has said it wanted to launch the PSP in Europe at roughly the same time as the US, but gamers will now fear that the launch has been put back. Nintendo has said it will release the DS in Europe from 11 March. \"It has gaming at its core, but it's not a gaming device. It's an entertainment device,\" said Kaz Hirai, president of Sony Computer Entertainment America.\n",
            "---------------\n",
            "The summarized version is:\n",
            "The handheld console will go on sale for $250 (£132) and the first million sold will come with Spider-Man 2 on UMD, the disc format for the machine. It's an entertainment device,\" said Kaz Hirai, president of Sony Computer Entertainment America. Sony PSP console hits US in March\n",
            "\n",
            "US gamers will be able to buy Sony's PlayStation Portable from 24 March, but there is no news of a Europe debut.\n"
          ]
        }
      ]
    },
    {
      "cell_type": "code",
      "source": [
        "article_no = np.random.choice(len(df))\n",
        "sample3 = df.loc[article_no, \"text\"]\n",
        "summarizer.get_summary(sample3)"
      ],
      "metadata": {
        "id": "nAboHcRUidDt",
        "colab": {
          "base_uri": "https://localhost:8080/"
        },
        "outputId": "2da1f088-0d31-4cc1-fb2f-67f1bd8bcebd"
      },
      "execution_count": 131,
      "outputs": [
        {
          "output_type": "stream",
          "name": "stdout",
          "text": [
            "The main article is:\n",
            "Moyes U-turn on Beattie dismissal\n",
            "\n",
            "Everton manager David Moyes will discipline striker James Beattie after all for his headbutt on Chelsea defender William Gallas.\n",
            "\n",
            "The Scot initially defended Beattie, whose dismissal put Everton on the back foot in a game they ultimately lost 1-0, saying Gallas overreacted. But he has had a rethink after looking over the video evidence again. He said: \"I believe that I should set the record straight by conceding that the dismissal was right and correct.\" Moyes added: \"My comments on Saturday came immediately after the final whistle and at a point when I had only had the opportunity to see one, very quick re-run of the incident.\"\n",
            "\n",
            "The club website also reported that Beattie, who seemed unrepentant after Saturday's match, insisting Gallas \"would have stayed down a lot longer\" if he had headbutted him, has now apologised. Moyes continued: \"Although the incident was totally out of character - James has never even been suspended before in his career - his actions were unacceptable and had a detrimental effect on his team-mates. \"James did issue a formal apology to myself, his team-mates and to the Everton supporters immediately after the game and that was the right thing to have done. He will now be subjected to the normal club discipline. \"He is a competitive player but a fair player and I know how upset he is by what has happened. However, I must say that I do still believe the Chelsea player in question did go down too easily.\" Speaking immediately after the game, Moyes said: \"I don't think it was a sending-off, I have been a centre-half in my time and I would have been ashamed to have gone down as easily as that.\n",
            "\n",
            "\"Not in a million years would John Terry have gone down in the same way. I have never heard of anybody butting somebody from behind while you are running after them. \"What has happened to big, strong centre-halves? I thought it was a push initially and I still don't think it was a sending-off.\" An angry Beattie initially said: \"He (Gallas) would have stayed down a lot longer if I had headbutted him. \"I can tell you it wasn't an intentional headbutt. We were chasing a ball into the corner and William Gallas was looking over his shoulder and blocking me off. \"He was stopping as we were running and I said to myself 'if you're going to stay in my way I'll go straight over you'. Our heads barely touched and it wasn't an intentional headbutt.\"\n",
            "---------------\n",
            "The summarized version is:\n",
            "Moyes added: \"My comments on Saturday came immediately after the final whistle and at a point when I had only had the opportunity to see one, very quick re-run of the incident.\" Moyes continued: \"Although the incident was totally out of character - James has never even been suspended before in his career - his actions were unacceptable and had a detrimental effect on his team-mates. The Scot initially defended Beattie, whose dismissal put Everton on the back foot in a game they ultimately lost 1-0, saying Gallas overreacted.\n"
          ]
        }
      ]
    },
    {
      "cell_type": "markdown",
      "source": [
        "# Text Rank"
      ],
      "metadata": {
        "id": "KvbdnRRQtqxQ"
      }
    },
    {
      "cell_type": "markdown",
      "source": [
        "TextRank differs from the simple algorithm we built in the way it scores each sentences. It takes inspiration from the PageRank algorithm where the algorithm starts with a random page and randomly walks between pages based on the links between pages. Intiutively, a page who gets many links into it will be scored higher compared to pages with fewer links pointing to them. We transform the concept of \"link\" to TextRank by taking cosine similarity between sentences. Additionally, we use Perron-Frobenius theorem to calculate the limiting distribution corresponding to a cosine similarity vector, that is the converging distribution when the random walk is implemented infinitely many times.\n",
        "\n",
        "We will now return the summaries of the same articles we retrieved with the simple algorithm:"
      ],
      "metadata": {
        "id": "dyQsnhvXt3mm"
      }
    },
    {
      "cell_type": "code",
      "source": [
        "summarizer.get_summary(sample1, score_method=\"textrank\")"
      ],
      "metadata": {
        "colab": {
          "base_uri": "https://localhost:8080/"
        },
        "id": "NetrGBcBSuLF",
        "outputId": "9fe64eb0-8b01-485d-b0b5-8c08c8b275c2"
      },
      "execution_count": 132,
      "outputs": [
        {
          "output_type": "stream",
          "name": "stdout",
          "text": [
            "The main article is:\n",
            "Why Cell will get the hard sell\n",
            "\n",
            "The world is casting its gaze on the Cell processor for the first time, but what is so important about it, and why is it so different?\n",
            "\n",
            "The backers of the processor are big names in the computer industry. IBM is one of the largest and most respected chip-makers in the world, providing cutting edge technology to large businesses. Sony will be using the chip inside its PlayStation 3 console, and its dominance of the games market means that it now has a lot of power to dictate the future of computer and gaming platforms. The technology inside the Cell is being heralded as revolutionary, from a technical standpoint. Traditional computers - whether they are household PCs or PlayStation 2s - use a single processor to carry out the calculations that run the computer. The Cell technology, on the other hand, uses multiple Cell processors linked together to run lots of calculations simultaneously.\n",
            "\n",
            "This gives it processing power an order of magnitude above its competitors. Whilst its rivals are working on similar technology, it is Sony's which is the most advanced. The speed of computer memory has been slowly increasing over the last few years, but the memory technology that accompanies the Cell is a huge leap in performance.\n",
            "\n",
            "Using a technology called XDR, created by American firm Rambus, memory can run up to eight times faster than the current standard being promoted by Intel. Perhaps more important than any of the technology is the Cell's role in the imminent \"war on living rooms\". The big trend predicted for this year is the convergence of computers with home entertainment devices such as DVD players and hi-fis. Companies like Microsoft and Sony believe that there is a lot of money to be made by putting a computer underneath the TV of every household and then offering services such as music and video downloads, as well as giving an individual access to all the media they already own in one place.\n",
            "\n",
            "Microsoft has already made its first tactical move into this area with its Windows Media Center software, which has been adopted by many PC makers. Sony had a stab at something similar with the PSX - a variation on the PlayStation - last year in Japan, although this attempt was generally seen as a failure. Both companies believe that increasing the capabilities of games consoles, to make them as powerful as PCs, will make the technology accessible enough to persuade buyers to give them pride of place on the video rack.\n",
            "\n",
            "Sony and IBM want to make sure that the dominance of the PC market enjoyed by Microsoft and Intel is not allowed to extend to this market. By creating a radically new architecture, and using that architecture in a games console that is sure to be a huge seller, they hope that the Cell processor can become the dominant technology in the living room, shutting out their rivals. Once they have established themselves under the TV, there is no doubt that they hope to use this as a base camp to extend their might into our traditional PCs and instigate a regime change on the desktop. Cell is, in fact, specifically designed to be deployed throughout the house. The links between the multiple processors can also be extended to reach Cell processors in entirely different systems.\n",
            "\n",
            "Sony hopes to put Cells in televisions, kitchen appliances and anywhere that could use any sort of computer chip. Each Cell will be linked to the others, creating a vast home network of computing power. Resources of the Cells across the house can be pooled to provide more power, and the links can also be used to enable devices to talk to each other, so that you can programme your microwave from your TV, for example. This digital home of the future depends on the widespread adoption of the Cell processor and there are, as with all things, a number of reasons it could fail. Because the processor is so different, it requires programmers to learn a different way of writing software, and it may be that the changeover is simply too difficult for them to master. You can also guarantee that Microsoft and Intel are not going to sit around and let Cell take over home computing without a fight. Microsoft is going to be pushing its Xbox 2 as hard as possible to make sure that its technology, not Sony's, will be under your tree next Christmas. Intel will be furiously working on new designs that address the problems of its current chips to create a rival technology to Cell, so that it doesn't lose its desktop PC dominance. If Cell succeeds in becoming the living room technology of choice, however, it could provide the jump-start to the fully digital home of the future. The revolution might not be televised, but it could well be played with a videogame controller.\n",
            "---------------\n",
            "The summarized version is:\n",
            "Companies like Microsoft and Sony believe that there is a lot of money to be made by putting a computer underneath the TV of every household and then offering services such as music and video downloads, as well as giving an individual access to all the media they already own in one place. The links between the multiple processors can also be extended to reach Cell processors in entirely different systems. Because the processor is so different, it requires programmers to learn a different way of writing software, and it may be that the changeover is simply too difficult for them to master.\n"
          ]
        }
      ]
    },
    {
      "cell_type": "code",
      "source": [
        "summarizer.get_summary(sample2, score_method=\"textrank\")"
      ],
      "metadata": {
        "colab": {
          "base_uri": "https://localhost:8080/"
        },
        "id": "QXisguO_UQH0",
        "outputId": "cdbddd56-faa8-49f5-caed-0a1ac2de385c"
      },
      "execution_count": 134,
      "outputs": [
        {
          "output_type": "stream",
          "name": "stdout",
          "text": [
            "The main article is:\n",
            "Sony PSP console hits US in March\n",
            "\n",
            "US gamers will be able to buy Sony's PlayStation Portable from 24 March, but there is no news of a Europe debut.\n",
            "\n",
            "The handheld console will go on sale for $250 (£132) and the first million sold will come with Spider-Man 2 on UMD, the disc format for the machine. Sony has billed the machine as the Walkman of the 21st Century and has sold more than 800,000 units in Japan. The console (12cm by 7.4cm) will play games, movies and music and also offers support for wireless gaming. Sony is entering a market which has been dominated by Nintendo for many years.\n",
            "\n",
            "It launched its DS handheld in Japan and the US last year and has sold 2.8 million units. Sony has said it wanted to launch the PSP in Europe at roughly the same time as the US, but gamers will now fear that the launch has been put back. Nintendo has said it will release the DS in Europe from 11 March. \"It has gaming at its core, but it's not a gaming device. It's an entertainment device,\" said Kaz Hirai, president of Sony Computer Entertainment America.\n",
            "---------------\n",
            "The summarized version is:\n",
            "Sony is entering a market which has been dominated by Nintendo for many years. It launched its DS handheld in Japan and the US last year and has sold 2.8 million units. The handheld console will go on sale for $250 (£132) and the first million sold will come with Spider-Man 2 on UMD, the disc format for the machine.\n"
          ]
        }
      ]
    },
    {
      "cell_type": "code",
      "source": [
        "summarizer.get_summary(sample3, score_method=\"textrank\")"
      ],
      "metadata": {
        "colab": {
          "base_uri": "https://localhost:8080/"
        },
        "id": "aY4zzMi-UTeX",
        "outputId": "f18bd3db-ca57-44fe-d4e3-0bf215562e8d"
      },
      "execution_count": 136,
      "outputs": [
        {
          "output_type": "stream",
          "name": "stdout",
          "text": [
            "The main article is:\n",
            "Moyes U-turn on Beattie dismissal\n",
            "\n",
            "Everton manager David Moyes will discipline striker James Beattie after all for his headbutt on Chelsea defender William Gallas.\n",
            "\n",
            "The Scot initially defended Beattie, whose dismissal put Everton on the back foot in a game they ultimately lost 1-0, saying Gallas overreacted. But he has had a rethink after looking over the video evidence again. He said: \"I believe that I should set the record straight by conceding that the dismissal was right and correct.\" Moyes added: \"My comments on Saturday came immediately after the final whistle and at a point when I had only had the opportunity to see one, very quick re-run of the incident.\"\n",
            "\n",
            "The club website also reported that Beattie, who seemed unrepentant after Saturday's match, insisting Gallas \"would have stayed down a lot longer\" if he had headbutted him, has now apologised. Moyes continued: \"Although the incident was totally out of character - James has never even been suspended before in his career - his actions were unacceptable and had a detrimental effect on his team-mates. \"James did issue a formal apology to myself, his team-mates and to the Everton supporters immediately after the game and that was the right thing to have done. He will now be subjected to the normal club discipline. \"He is a competitive player but a fair player and I know how upset he is by what has happened. However, I must say that I do still believe the Chelsea player in question did go down too easily.\" Speaking immediately after the game, Moyes said: \"I don't think it was a sending-off, I have been a centre-half in my time and I would have been ashamed to have gone down as easily as that.\n",
            "\n",
            "\"Not in a million years would John Terry have gone down in the same way. I have never heard of anybody butting somebody from behind while you are running after them. \"What has happened to big, strong centre-halves? I thought it was a push initially and I still don't think it was a sending-off.\" An angry Beattie initially said: \"He (Gallas) would have stayed down a lot longer if I had headbutted him. \"I can tell you it wasn't an intentional headbutt. We were chasing a ball into the corner and William Gallas was looking over his shoulder and blocking me off. \"He was stopping as we were running and I said to myself 'if you're going to stay in my way I'll go straight over you'. Our heads barely touched and it wasn't an intentional headbutt.\"\n",
            "---------------\n",
            "The summarized version is:\n",
            "Moyes added: \"My comments on Saturday came immediately after the final whistle and at a point when I had only had the opportunity to see one, very quick re-run of the incident.\" Our heads barely touched and it wasn't an intentional headbutt.\" \"I can tell you it wasn't an intentional headbutt.\n"
          ]
        }
      ]
    },
    {
      "cell_type": "code",
      "source": [],
      "metadata": {
        "id": "5DNJmVXNUUBx"
      },
      "execution_count": null,
      "outputs": []
    }
  ]
}